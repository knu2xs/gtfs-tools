{
 "cells": [
  {
   "cell_type": "code",
   "execution_count": 1,
   "id": "bd34eb73-dd6a-4b93-8ba4-bec410e7823f",
   "metadata": {},
   "outputs": [],
   "source": [
    "from pathlib import Path"
   ]
  },
  {
   "cell_type": "code",
   "execution_count": 2,
   "id": "6f4a4bc2-120e-448c-b86d-c3679cb72647",
   "metadata": {},
   "outputs": [],
   "source": [
    "def get_gtfs_directories(parent_dir: Path) -> list[Path]:\n",
    "    \"\"\"Get a list of GTFS directories below a parent directory.\"\"\"\n",
    "    # ensure parent directory is a path\n",
    "    if isinstance(parent_dir, str):\n",
    "        parent_dir = Path(parent_dir)\n",
    "    \n",
    "    # use list comprehension to search for required file, agency\n",
    "    pth_lst = [pth.parent for pth in parent_dir.glob('**/agency.txt')]\n",
    "    \n",
    "    return pth_lst"
   ]
  },
  {
   "cell_type": "code",
   "execution_count": 3,
   "id": "8b97e7d2-4ae8-454d-aba8-0f23ddb16d70",
   "metadata": {},
   "outputs": [],
   "source": [
    "top_dir = r'D:\\scratch\\gtfs-tools\\data\\raw\\gtfs_olympia'"
   ]
  },
  {
   "cell_type": "code",
   "execution_count": 4,
   "id": "6148051d-3b08-41ab-85d3-ef9e8b491809",
   "metadata": {},
   "outputs": [
    {
     "data": {
      "text/plain": [
       "[WindowsPath('D:/scratch/gtfs-tools/data/raw/gtfs_olympia/mdb_source_id=11'),\n",
       " WindowsPath('D:/scratch/gtfs-tools/data/raw/gtfs_olympia/mdb_source_id=1330'),\n",
       " WindowsPath('D:/scratch/gtfs-tools/data/raw/gtfs_olympia/mdb_source_id=1331'),\n",
       " WindowsPath('D:/scratch/gtfs-tools/data/raw/gtfs_olympia/mdb_source_id=1871'),\n",
       " WindowsPath('D:/scratch/gtfs-tools/data/raw/gtfs_olympia/mdb_source_id=263'),\n",
       " WindowsPath('D:/scratch/gtfs-tools/data/raw/gtfs_olympia/mdb_source_id=264'),\n",
       " WindowsPath('D:/scratch/gtfs-tools/data/raw/gtfs_olympia/mdb_source_id=265'),\n",
       " WindowsPath('D:/scratch/gtfs-tools/data/raw/gtfs_olympia/mdb_source_id=266'),\n",
       " WindowsPath('D:/scratch/gtfs-tools/data/raw/gtfs_olympia/mdb_source_id=267'),\n",
       " WindowsPath('D:/scratch/gtfs-tools/data/raw/gtfs_olympia/mdb_source_id=268'),\n",
       " WindowsPath('D:/scratch/gtfs-tools/data/raw/gtfs_olympia/mdb_source_id=283'),\n",
       " WindowsPath('D:/scratch/gtfs-tools/data/raw/gtfs_olympia/mdb_source_id=735'),\n",
       " WindowsPath('D:/scratch/gtfs-tools/data/raw/gtfs_olympia/mdb_source_id=784'),\n",
       " WindowsPath('D:/scratch/gtfs-tools/data/raw/gtfs_olympia/mdb_source_id=822'),\n",
       " WindowsPath('D:/scratch/gtfs-tools/data/raw/gtfs_olympia/mdb_source_id=846')]"
      ]
     },
     "execution_count": 4,
     "metadata": {},
     "output_type": "execute_result"
    }
   ],
   "source": [
    "gtfs_dir_lst = get_gtfs_directories(top_dir)\n",
    "\n",
    "gtfs_dir_lst"
   ]
  },
  {
   "cell_type": "code",
   "execution_count": null,
   "id": "03fa7d09-60a3-4e35-b595-0f727c9ba550",
   "metadata": {},
   "outputs": [],
   "source": []
  }
 ],
 "metadata": {
  "kernelspec": {
   "display_name": "Python 3 (ipykernel)",
   "language": "python",
   "name": "python3"
  },
  "language_info": {
   "codemirror_mode": {
    "name": "ipython",
    "version": 3
   },
   "file_extension": ".py",
   "mimetype": "text/x-python",
   "name": "python",
   "nbconvert_exporter": "python",
   "pygments_lexer": "ipython3",
   "version": "3.11.8"
  }
 },
 "nbformat": 4,
 "nbformat_minor": 5
}
