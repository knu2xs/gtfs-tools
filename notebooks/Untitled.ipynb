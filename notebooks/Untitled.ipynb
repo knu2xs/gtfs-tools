{
 "cells": [
  {
   "cell_type": "code",
   "execution_count": 1,
   "id": "05605e8f-9a0b-42d9-8e4b-2f0d1c2fcb3b",
   "metadata": {},
   "outputs": [],
   "source": [
    "from pathlib import Path\n",
    "\n",
    "from gtfs_tools.gtfs import GtfsDataset"
   ]
  },
  {
   "cell_type": "code",
   "execution_count": 2,
   "id": "177d2200-c0ae-41c2-8e4e-1f085ae9e929",
   "metadata": {},
   "outputs": [],
   "source": [
    "pth = r'D:\\scratch\\gtfs-tools\\data\\raw\\gtfs_olympia\\mdb_source_id=11'"
   ]
  },
  {
   "cell_type": "code",
   "execution_count": 3,
   "id": "bb725fde-a206-49ca-b614-a62feed98e9d",
   "metadata": {},
   "outputs": [
    {
     "data": {
      "text/plain": [
       "GtfsDataset: D:\\scratch\\gtfs-tools\\data\\raw\\gtfs_olympia\\mdb_source_id=11"
      ]
     },
     "execution_count": 3,
     "metadata": {},
     "output_type": "execute_result"
    }
   ],
   "source": [
    "gtfs = GtfsDataset(pth)\n",
    "\n",
    "gtfs"
   ]
  },
  {
   "cell_type": "code",
   "execution_count": null,
   "id": "8cc10930-2bc7-4307-96c1-f398a9adf38a",
   "metadata": {},
   "outputs": [],
   "source": []
  }
 ],
 "metadata": {
  "kernelspec": {
   "display_name": "Python 3 (ipykernel)",
   "language": "python",
   "name": "python3"
  },
  "language_info": {
   "codemirror_mode": {
    "name": "ipython",
    "version": 3
   },
   "file_extension": ".py",
   "mimetype": "text/x-python",
   "name": "python",
   "nbconvert_exporter": "python",
   "pygments_lexer": "ipython3",
   "version": "3.11.8"
  }
 },
 "nbformat": 4,
 "nbformat_minor": 5
}
