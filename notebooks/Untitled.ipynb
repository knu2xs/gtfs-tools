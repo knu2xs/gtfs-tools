{
 "cells": [
  {
   "cell_type": "code",
   "execution_count": 1,
   "id": "05605e8f-9a0b-42d9-8e4b-2f0d1c2fcb3b",
   "metadata": {},
   "outputs": [],
   "source": [
    "from pathlib import Path\n",
    "\n",
    "from gtfs_tools.gtfs import GtfsDataset"
   ]
  },
  {
   "cell_type": "code",
   "execution_count": 2,
   "id": "177d2200-c0ae-41c2-8e4e-1f085ae9e929",
   "metadata": {},
   "outputs": [],
   "source": [
    "pth = r'D:\\scratch\\gtfs-tools\\data\\raw\\gtfs_olympia\\mdb_source_id=11'"
   ]
  },
  {
   "cell_type": "code",
   "execution_count": 3,
   "id": "3c7d3aa3-2864-4741-812e-fff55d7c9665",
   "metadata": {},
   "outputs": [
    {
     "data": {
      "text/plain": [
       "<gtfs_tools.gtfs.GtfsDataset at 0x16ac1ecf910>"
      ]
     },
     "execution_count": 3,
     "metadata": {},
     "output_type": "execute_result"
    }
   ],
   "source": [
    "gtfs = GtfsDataset(pth)\n",
    "\n",
    "gtfs"
   ]
  },
  {
   "cell_type": "code",
   "execution_count": 4,
   "id": "56a9000d-9e89-40f2-b231-18820046d984",
   "metadata": {},
   "outputs": [
    {
     "data": {
      "text/html": [
       "<div>\n",
       "<style scoped>\n",
       "    .dataframe tbody tr th:only-of-type {\n",
       "        vertical-align: middle;\n",
       "    }\n",
       "\n",
       "    .dataframe tbody tr th {\n",
       "        vertical-align: top;\n",
       "    }\n",
       "\n",
       "    .dataframe thead th {\n",
       "        text-align: right;\n",
       "    }\n",
       "</style>\n",
       "<table border=\"1\" class=\"dataframe\">\n",
       "  <thead>\n",
       "    <tr style=\"text-align: right;\">\n",
       "      <th></th>\n",
       "      <th>trip_id</th>\n",
       "      <th>arrival_time</th>\n",
       "      <th>departure_time</th>\n",
       "      <th>stop_id</th>\n",
       "      <th>stop_sequence</th>\n",
       "      <th>pickup_type</th>\n",
       "      <th>drop_off_type</th>\n",
       "    </tr>\n",
       "  </thead>\n",
       "  <tbody>\n",
       "    <tr>\n",
       "      <th>0</th>\n",
       "      <td>1617</td>\n",
       "      <td>0 days 18:40:00</td>\n",
       "      <td>0 days 18:40:00</td>\n",
       "      <td>STL</td>\n",
       "      <td>1</td>\n",
       "      <td>0</td>\n",
       "      <td>0</td>\n",
       "    </tr>\n",
       "    <tr>\n",
       "      <th>1</th>\n",
       "      <td>1617</td>\n",
       "      <td>0 days 19:22:00</td>\n",
       "      <td>0 days 19:24:00</td>\n",
       "      <td>ALN</td>\n",
       "      <td>2</td>\n",
       "      <td>0</td>\n",
       "      <td>0</td>\n",
       "    </tr>\n",
       "    <tr>\n",
       "      <th>2</th>\n",
       "      <td>1617</td>\n",
       "      <td>0 days 20:21:00</td>\n",
       "      <td>0 days 20:24:00</td>\n",
       "      <td>SPI</td>\n",
       "      <td>3</td>\n",
       "      <td>0</td>\n",
       "      <td>0</td>\n",
       "    </tr>\n",
       "    <tr>\n",
       "      <th>3</th>\n",
       "      <td>1617</td>\n",
       "      <td>0 days 20:46:00</td>\n",
       "      <td>0 days 20:46:00</td>\n",
       "      <td>LCN</td>\n",
       "      <td>4</td>\n",
       "      <td>0</td>\n",
       "      <td>0</td>\n",
       "    </tr>\n",
       "    <tr>\n",
       "      <th>4</th>\n",
       "      <td>1617</td>\n",
       "      <td>0 days 21:14:00</td>\n",
       "      <td>0 days 21:17:00</td>\n",
       "      <td>BNL</td>\n",
       "      <td>5</td>\n",
       "      <td>0</td>\n",
       "      <td>0</td>\n",
       "    </tr>\n",
       "    <tr>\n",
       "      <th>...</th>\n",
       "      <td>...</td>\n",
       "      <td>...</td>\n",
       "      <td>...</td>\n",
       "      <td>...</td>\n",
       "      <td>...</td>\n",
       "      <td>...</td>\n",
       "      <td>...</td>\n",
       "    </tr>\n",
       "    <tr>\n",
       "      <th>36542</th>\n",
       "      <td>40308</td>\n",
       "      <td>1 days 09:23:00</td>\n",
       "      <td>1 days 09:27:00</td>\n",
       "      <td>WIL</td>\n",
       "      <td>29</td>\n",
       "      <td>1</td>\n",
       "      <td>0</td>\n",
       "    </tr>\n",
       "    <tr>\n",
       "      <th>36543</th>\n",
       "      <td>40308</td>\n",
       "      <td>1 days 09:48:00</td>\n",
       "      <td>1 days 09:53:00</td>\n",
       "      <td>PHL</td>\n",
       "      <td>30</td>\n",
       "      <td>1</td>\n",
       "      <td>0</td>\n",
       "    </tr>\n",
       "    <tr>\n",
       "      <th>36544</th>\n",
       "      <td>40308</td>\n",
       "      <td>1 days 10:21:00</td>\n",
       "      <td>1 days 10:23:00</td>\n",
       "      <td>TRE</td>\n",
       "      <td>31</td>\n",
       "      <td>1</td>\n",
       "      <td>0</td>\n",
       "    </tr>\n",
       "    <tr>\n",
       "      <th>36545</th>\n",
       "      <td>40308</td>\n",
       "      <td>1 days 10:58:00</td>\n",
       "      <td>1 days 11:00:00</td>\n",
       "      <td>NWK</td>\n",
       "      <td>32</td>\n",
       "      <td>1</td>\n",
       "      <td>0</td>\n",
       "    </tr>\n",
       "    <tr>\n",
       "      <th>36546</th>\n",
       "      <td>40308</td>\n",
       "      <td>1 days 11:18:00</td>\n",
       "      <td>1 days 11:18:00</td>\n",
       "      <td>NYP</td>\n",
       "      <td>33</td>\n",
       "      <td>0</td>\n",
       "      <td>0</td>\n",
       "    </tr>\n",
       "  </tbody>\n",
       "</table>\n",
       "<p>36547 rows × 7 columns</p>\n",
       "</div>"
      ],
      "text/plain": [
       "      trip_id    arrival_time  departure_time stop_id  stop_sequence  \\\n",
       "0        1617 0 days 18:40:00 0 days 18:40:00     STL              1   \n",
       "1        1617 0 days 19:22:00 0 days 19:24:00     ALN              2   \n",
       "2        1617 0 days 20:21:00 0 days 20:24:00     SPI              3   \n",
       "3        1617 0 days 20:46:00 0 days 20:46:00     LCN              4   \n",
       "4        1617 0 days 21:14:00 0 days 21:17:00     BNL              5   \n",
       "...       ...             ...             ...     ...            ...   \n",
       "36542   40308 1 days 09:23:00 1 days 09:27:00     WIL             29   \n",
       "36543   40308 1 days 09:48:00 1 days 09:53:00     PHL             30   \n",
       "36544   40308 1 days 10:21:00 1 days 10:23:00     TRE             31   \n",
       "36545   40308 1 days 10:58:00 1 days 11:00:00     NWK             32   \n",
       "36546   40308 1 days 11:18:00 1 days 11:18:00     NYP             33   \n",
       "\n",
       "       pickup_type  drop_off_type  \n",
       "0                0              0  \n",
       "1                0              0  \n",
       "2                0              0  \n",
       "3                0              0  \n",
       "4                0              0  \n",
       "...            ...            ...  \n",
       "36542            1              0  \n",
       "36543            1              0  \n",
       "36544            1              0  \n",
       "36545            1              0  \n",
       "36546            0              0  \n",
       "\n",
       "[36547 rows x 7 columns]"
      ]
     },
     "execution_count": 4,
     "metadata": {},
     "output_type": "execute_result"
    }
   ],
   "source": [
    "gtfs.stop_times.data"
   ]
  },
  {
   "cell_type": "code",
   "execution_count": 9,
   "id": "4113c7cc-40ba-466d-8dd9-5eaa3d702954",
   "metadata": {},
   "outputs": [
    {
     "ename": "AttributeError",
     "evalue": "'GtfsDataset' object has no attribute 'get'",
     "output_type": "error",
     "traceback": [
      "\u001B[1;31m---------------------------------------------------------------------------\u001B[0m",
      "\u001B[1;31mAttributeError\u001B[0m                            Traceback (most recent call last)",
      "\u001B[1;32m~\\AppData\\Local\\Temp\\ipykernel_13740\\1466808460.py\u001B[0m in \u001B[0;36m<cell line: 0>\u001B[1;34m()\u001B[0m\n\u001B[1;32m----> 1\u001B[1;33m \u001B[0mgtfs\u001B[0m\u001B[1;33m.\u001B[0m\u001B[0mget\u001B[0m\u001B[1;33m(\u001B[0m\u001B[1;34m'routes'\u001B[0m\u001B[1;33m)\u001B[0m\u001B[1;33m\u001B[0m\u001B[1;33m\u001B[0m\u001B[0m\n\u001B[0m",
      "\u001B[1;31mAttributeError\u001B[0m: 'GtfsDataset' object has no attribute 'get'"
     ]
    }
   ],
   "source": [
    "gtfs."
   ]
  },
  {
   "cell_type": "code",
   "execution_count": null,
   "id": "f7dfbb07-e17d-4c47-ad08-925ebc076146",
   "metadata": {},
   "outputs": [],
   "source": [
    "gtfs."
   ]
  }
 ],
 "metadata": {
  "kernelspec": {
   "display_name": "Python 3 (ipykernel)",
   "language": "python",
   "name": "python3"
  },
  "language_info": {
   "codemirror_mode": {
    "name": "ipython",
    "version": 3
   },
   "file_extension": ".py",
   "mimetype": "text/x-python",
   "name": "python",
   "nbconvert_exporter": "python",
   "pygments_lexer": "ipython3",
   "version": "3.11.8"
  }
 },
 "nbformat": 4,
 "nbformat_minor": 5
}
