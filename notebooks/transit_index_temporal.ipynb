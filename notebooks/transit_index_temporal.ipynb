{
 "cells": [
  {
   "cell_type": "markdown",
   "id": "d34ff02d-af28-4916-a951-0fa327ba6a10",
   "metadata": {},
   "source": [
    "# Transit Accessibility Temporal"
   ]
  },
  {
   "cell_type": "markdown",
   "id": "4a9309d6-d3bd-46f1-8d75-6cea99f928a1",
   "metadata": {},
   "source": [
    "https://medium.com/@axelazara6/why-we-need-encoding-cyclical-features-79ecc3531232#:~:text=By%20transforming%20the%20cyclical%20feature%20into%20two%20dimensions,data%20and%20can%20lead%20to%20improved%20model%20performance."
   ]
  },
  {
   "cell_type": "code",
   "execution_count": 1,
   "id": "6c7c8be3-8d15-43db-a028-07c24511b000",
   "metadata": {},
   "outputs": [],
   "source": [
    "import pandas as pd\n",
    "import seaborn as sns\n",
    "\n",
    "from gtfs_tools.gtfs import GtfsDataset"
   ]
  },
  {
   "cell_type": "code",
   "execution_count": 2,
   "id": "31d87ef1-a74e-48b1-b6f3-e6082359a8af",
   "metadata": {},
   "outputs": [],
   "source": [
    "zip_pth = r\"D:\\projects\\GTFS-Publishing\\data\\raw\\StLouis_Metro_stlouisgtfszip_2024-06-04_00_00\\STLouis_GTFS.zip\""
   ]
  },
  {
   "cell_type": "code",
   "execution_count": 3,
   "id": "c0d87b1e-37ba-4377-9878-edab871d920d",
   "metadata": {},
   "outputs": [
    {
     "data": {
      "text/plain": [
       "GtfsDataset: C:\\Users\\joel5174\\AppData\\Local\\Temp\\tmpnndm62je"
      ]
     },
     "execution_count": 3,
     "metadata": {},
     "output_type": "execute_result"
    }
   ],
   "source": [
    "gtfs = GtfsDataset.from_zip(zip_pth, standardize_route_types=True)\n",
    "\n",
    "gtfs"
   ]
  },
  {
   "cell_type": "code",
   "execution_count": 16,
   "id": "2cffbbf2-859a-4228-8817-5767b1dfc02d",
   "metadata": {},
   "outputs": [
    {
     "data": {
      "text/plain": [
       "0         13\n",
       "1         13\n",
       "2         13\n",
       "3         13\n",
       "4         13\n",
       "          ..\n",
       "451313     0\n",
       "451314     0\n",
       "451315     0\n",
       "451316    23\n",
       "451317    23\n",
       "Name: hours, Length: 451318, dtype: int64"
      ]
     },
     "execution_count": 16,
     "metadata": {},
     "output_type": "execute_result"
    }
   ],
   "source": [
    "df = gtfs.stop_times.data.loc[:,['stop_id', 'arrival_time']]\n",
    "\n",
    "df.arrival_time.dt.components.hours % 24"
   ]
  },
  {
   "cell_type": "code",
   "execution_count": 15,
   "id": "1ce36b8e-4972-41d8-8ed7-a6c916e3b6be",
   "metadata": {},
   "outputs": [
    {
     "data": {
      "text/plain": [
       "0         49800\n",
       "1         49860\n",
       "2         49920\n",
       "3         50040\n",
       "4         50040\n",
       "          ...  \n",
       "451313      540\n",
       "451314     1020\n",
       "451315     1320\n",
       "451316    85500\n",
       "451317    85800\n",
       "Name: arrival_time, Length: 451318, dtype: int32"
      ]
     },
     "execution_count": 15,
     "metadata": {},
     "output_type": "execute_result"
    }
   ],
   "source": [
    "df.arrival_time.dt.seconds"
   ]
  },
  {
   "cell_type": "code",
   "execution_count": null,
   "id": "52f5357b-151c-45ae-9a9a-4237cb4207f5",
   "metadata": {},
   "outputs": [],
   "source": []
  }
 ],
 "metadata": {
  "kernelspec": {
   "display_name": "Python 3 (ipykernel)",
   "language": "python",
   "name": "python3"
  },
  "language_info": {
   "codemirror_mode": {
    "name": "ipython",
    "version": 3
   },
   "file_extension": ".py",
   "mimetype": "text/x-python",
   "name": "python",
   "nbconvert_exporter": "python",
   "pygments_lexer": "ipython3",
   "version": "3.11.8"
  }
 },
 "nbformat": 4,
 "nbformat_minor": 5
}
