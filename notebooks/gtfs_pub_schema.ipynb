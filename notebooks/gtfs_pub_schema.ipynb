{
 "cells": [
  {
   "cell_type": "code",
   "execution_count": 1,
   "id": "91d6cb78-bbe5-45a4-aad3-b5c1f74377ce",
   "metadata": {},
   "outputs": [],
   "source": [
    "from pathlib import Path\n",
    "\n",
    "import arcpy\n",
    "from arcgis.features import GeoAccessor\n",
    "import pandas as pd\n",
    "import numpy as np\n",
    "\n",
    "from gtfs_tools.gtfs import GtfsDataset\n",
    "from gtfs_tools.utils.gtfs import add_agency_name_column, add_modality_descriptions, add_standarized_modality_column, add_location_descriptions"
   ]
  },
  {
   "cell_type": "code",
   "execution_count": 4,
   "id": "b4890464-8204-4549-8e53-c3904df71fc9",
   "metadata": {},
   "outputs": [],
   "source": [
    "gtfs_parent = Path(r\"D:\\projects\\gtfs-tools\\data\\raw\\Esri_NL_gtfsnlzip_2024-08-13_16_01\")\n",
    "\n",
    "gtfs_dir = gtfs_parent / 'gtfs'\n",
    "\n",
    "gdb_pth = gtfs_parent / 'gtfs.gdb'\n",
    "line_pth = gdb_pth / 'lines'\n",
    "stop_pth = gdb_pth / 'stops'"
   ]
  },
  {
   "cell_type": "code",
   "execution_count": 5,
   "id": "ef79a092-4953-49c5-9f58-7ce492c140c3",
   "metadata": {},
   "outputs": [
    {
     "data": {
      "text/plain": [
       "GtfsDataset: D:\\projects\\gtfs-tools\\data\\raw\\Esri_NL_gtfsnlzip_2024-08-13_16_01\\gtfs"
      ]
     },
     "execution_count": 5,
     "metadata": {},
     "output_type": "execute_result"
    }
   ],
   "source": [
    "gtfs = GtfsDataset(gtfs_dir)\n",
    "\n",
    "gtfs"
   ]
  },
  {
   "cell_type": "markdown",
   "id": "126d9fea-04e9-4c22-9934-a1d237c11895",
   "metadata": {},
   "source": [
    "## Schema Creation"
   ]
  },
  {
   "cell_type": "markdown",
   "id": "6cf79df4-7046-4b85-a2c3-3d2acb806848",
   "metadata": {
    "tags": []
   },
   "source": [
    "### Schema Definitions"
   ]
  },
  {
   "cell_type": "code",
   "execution_count": 6,
   "id": "43374042-71e5-48dc-909f-fd11a64ff6a0",
   "metadata": {
    "tags": []
   },
   "outputs": [],
   "source": [
    "line_dtype_dict = {\n",
    "    'shape_id': 'string',\n",
    "    'route_id': 'string',\n",
    "    'agency_id': 'string',\n",
    "    'agency_name': 'string',\n",
    "    'route_short_name': 'string',\n",
    "    'route_long_name': 'string',\n",
    "    'route_desc': 'string',\n",
    "    'route_type': 'string',\n",
    "    'route_url': 'string',\n",
    "    'route_color': 'string',\n",
    "    'route_type_text': 'string',\n",
    "    'esri_route_type_carto': 'string',\n",
    "    'esri_route_type_carto_desc': 'string',\n",
    "    'esri_contributor': 'string',\n",
    "    'esri_date_received': 'datetime64',\n",
    "    'esri_date_processed': 'datetime64',\n",
    "    'esri_excluded': 'Int32'\n",
    "}\n",
    "\n",
    "stop_dtype_dict = {\n",
    "    'stop_id': 'string',\n",
    "    'stop_code': 'string',\n",
    "    'stop_name': 'string',\n",
    "    'tts_stop_name': 'string',\n",
    "    'stop_desc': 'string',\n",
    "    'stop_lat': 'Float64',\n",
    "    'stop_lon': 'Float64',\n",
    "    'zone_id': 'string',\n",
    "    'stop_url': 'string',\n",
    "    'location_type': 'string',\n",
    "    'parent_station': 'string',\n",
    "    'stop_timezone': 'string',\n",
    "    'wheelchair_boarding': 'string',\n",
    "    'level_id': 'string',\n",
    "    'platform_code': 'string',\n",
    "    'esri_contributor': 'string',\n",
    "    'esri_date_received': 'datetime64[us]',\n",
    "    'esri_stop_type': 'string',\n",
    "    'esri_stop_type_desc': 'string',\n",
    "    'esri_stop_type_carto': 'string',\n",
    "    'esri_stop_type_carto_desc': 'string',\n",
    "    'esri_location_type_desc': 'string',\n",
    "    'agency_id': 'string',\n",
    "    'agency_name': 'string',\n",
    "    'esri_date_processed': 'datetime64[us]',\n",
    "    'esri_excluded': 'Int32',\n",
    "}"
   ]
  },
  {
   "cell_type": "markdown",
   "id": "aec9dab9-484a-455b-9d77-5eeed5a90d8c",
   "metadata": {},
   "source": [
    "### Build Data"
   ]
  },
  {
   "cell_type": "markdown",
   "id": "42f988f0-f6af-4f69-a98d-1f9e8113ee73",
   "metadata": {},
   "source": [
    "#### Stops"
   ]
  },
  {
   "cell_type": "code",
   "execution_count": 7,
   "id": "b9c9a6af-9b76-49c5-b8e7-35d4b07368ce",
   "metadata": {},
   "outputs": [
    {
     "name": "stdout",
     "output_type": "stream",
     "text": [
      "<class 'pandas.core.frame.DataFrame'>\n",
      "RangeIndex: 69945 entries, 0 to 69944\n",
      "Data columns (total 12 columns):\n",
      " #   Column               Non-Null Count  Dtype   \n",
      "---  ------               --------------  -----   \n",
      " 0   stop_id              69945 non-null  object  \n",
      " 1   stop_code            57569 non-null  object  \n",
      " 2   stop_name            69945 non-null  object  \n",
      " 3   stop_lat             69945 non-null  Float64 \n",
      " 4   stop_lon             69945 non-null  Float64 \n",
      " 5   location_type        69945 non-null  object  \n",
      " 6   parent_station       34694 non-null  object  \n",
      " 7   stop_timezone        668 non-null    object  \n",
      " 8   wheelchair_boarding  67256 non-null  float64 \n",
      " 9   platform_code        3339 non-null   object  \n",
      " 10  zone_id              12394 non-null  object  \n",
      " 11  SHAPE                69945 non-null  geometry\n",
      "dtypes: Float64(2), float64(1), geometry(1), object(8)\n",
      "memory usage: 6.5+ MB\n"
     ]
    },
    {
     "data": {
      "text/html": [
       "<div>\n",
       "<style scoped>\n",
       "    .dataframe tbody tr th:only-of-type {\n",
       "        vertical-align: middle;\n",
       "    }\n",
       "\n",
       "    .dataframe tbody tr th {\n",
       "        vertical-align: top;\n",
       "    }\n",
       "\n",
       "    .dataframe thead th {\n",
       "        text-align: right;\n",
       "    }\n",
       "</style>\n",
       "<table border=\"1\" class=\"dataframe\">\n",
       "  <thead>\n",
       "    <tr style=\"text-align: right;\">\n",
       "      <th></th>\n",
       "      <th>stop_id</th>\n",
       "      <th>stop_code</th>\n",
       "      <th>stop_name</th>\n",
       "      <th>stop_lat</th>\n",
       "      <th>stop_lon</th>\n",
       "      <th>location_type</th>\n",
       "      <th>parent_station</th>\n",
       "      <th>stop_timezone</th>\n",
       "      <th>wheelchair_boarding</th>\n",
       "      <th>platform_code</th>\n",
       "      <th>zone_id</th>\n",
       "      <th>SHAPE</th>\n",
       "    </tr>\n",
       "  </thead>\n",
       "  <tbody>\n",
       "    <tr>\n",
       "      <th>0</th>\n",
       "      <td>2323991</td>\n",
       "      <td>NaN</td>\n",
       "      <td>Koln-Ehrenfeld</td>\n",
       "      <td>50.951582</td>\n",
       "      <td>6.917458</td>\n",
       "      <td>0</td>\n",
       "      <td>stoparea:177908</td>\n",
       "      <td>NaN</td>\n",
       "      <td>NaN</td>\n",
       "      <td>NaN</td>\n",
       "      <td>IFF:kolne</td>\n",
       "      <td>{\"x\": 6.9174579, \"y\": 50.9515817, \"spatialRefe...</td>\n",
       "    </tr>\n",
       "    <tr>\n",
       "      <th>1</th>\n",
       "      <td>2324425</td>\n",
       "      <td>NaN</td>\n",
       "      <td>Sappemeer Oost</td>\n",
       "      <td>53.158998</td>\n",
       "      <td>6.795339</td>\n",
       "      <td>0</td>\n",
       "      <td>stoparea:18130</td>\n",
       "      <td>NaN</td>\n",
       "      <td>NaN</td>\n",
       "      <td>1</td>\n",
       "      <td>IFF:spm</td>\n",
       "      <td>{\"x\": 6.7953389883, \"y\": 53.1589979356, \"spati...</td>\n",
       "    </tr>\n",
       "    <tr>\n",
       "      <th>2</th>\n",
       "      <td>2324426</td>\n",
       "      <td>NaN</td>\n",
       "      <td>Sappemeer Oost</td>\n",
       "      <td>53.158848</td>\n",
       "      <td>6.796734</td>\n",
       "      <td>0</td>\n",
       "      <td>stoparea:18130</td>\n",
       "      <td>NaN</td>\n",
       "      <td>NaN</td>\n",
       "      <td>2</td>\n",
       "      <td>IFF:spm</td>\n",
       "      <td>{\"x\": 6.79673373699, \"y\": 53.1588483687, \"spat...</td>\n",
       "    </tr>\n",
       "    <tr>\n",
       "      <th>3</th>\n",
       "      <td>2324427</td>\n",
       "      <td>NaN</td>\n",
       "      <td>Sappemeer Oost</td>\n",
       "      <td>53.158834</td>\n",
       "      <td>6.796141</td>\n",
       "      <td>0</td>\n",
       "      <td>stoparea:18130</td>\n",
       "      <td>NaN</td>\n",
       "      <td>NaN</td>\n",
       "      <td>NaN</td>\n",
       "      <td>IFF:spm</td>\n",
       "      <td>{\"x\": 6.7961409688, \"y\": 53.1588338945, \"spati...</td>\n",
       "    </tr>\n",
       "    <tr>\n",
       "      <th>4</th>\n",
       "      <td>2380333</td>\n",
       "      <td>NaN</td>\n",
       "      <td>Veenwouden</td>\n",
       "      <td>53.235293</td>\n",
       "      <td>5.989464</td>\n",
       "      <td>0</td>\n",
       "      <td>stoparea:377859</td>\n",
       "      <td>NaN</td>\n",
       "      <td>NaN</td>\n",
       "      <td>NaN</td>\n",
       "      <td>IFF:vwd</td>\n",
       "      <td>{\"x\": 5.98946392536, \"y\": 53.2352926285, \"spat...</td>\n",
       "    </tr>\n",
       "  </tbody>\n",
       "</table>\n",
       "</div>"
      ],
      "text/plain": [
       "   stop_id stop_code       stop_name   stop_lat  stop_lon location_type  \\\n",
       "0  2323991       NaN  Koln-Ehrenfeld  50.951582  6.917458             0   \n",
       "1  2324425       NaN  Sappemeer Oost  53.158998  6.795339             0   \n",
       "2  2324426       NaN  Sappemeer Oost  53.158848  6.796734             0   \n",
       "3  2324427       NaN  Sappemeer Oost  53.158834  6.796141             0   \n",
       "4  2380333       NaN      Veenwouden  53.235293  5.989464             0   \n",
       "\n",
       "    parent_station stop_timezone  wheelchair_boarding platform_code  \\\n",
       "0  stoparea:177908           NaN                  NaN           NaN   \n",
       "1   stoparea:18130           NaN                  NaN             1   \n",
       "2   stoparea:18130           NaN                  NaN             2   \n",
       "3   stoparea:18130           NaN                  NaN           NaN   \n",
       "4  stoparea:377859           NaN                  NaN           NaN   \n",
       "\n",
       "     zone_id                                              SHAPE  \n",
       "0  IFF:kolne  {\"x\": 6.9174579, \"y\": 50.9515817, \"spatialRefe...  \n",
       "1    IFF:spm  {\"x\": 6.7953389883, \"y\": 53.1589979356, \"spati...  \n",
       "2    IFF:spm  {\"x\": 6.79673373699, \"y\": 53.1588483687, \"spat...  \n",
       "3    IFF:spm  {\"x\": 6.7961409688, \"y\": 53.1588338945, \"spati...  \n",
       "4    IFF:vwd  {\"x\": 5.98946392536, \"y\": 53.2352926285, \"spat...  "
      ]
     },
     "execution_count": 7,
     "metadata": {},
     "output_type": "execute_result"
    }
   ],
   "source": [
    "# get stops with modality\n",
    "stops_df = gtfs.stops.sedf\n",
    "\n",
    "stops_df.info()\n",
    "stops_df.head()"
   ]
  },
  {
   "cell_type": "code",
   "execution_count": 8,
   "id": "d3570776-379e-4b53-98cc-c4c612e54f14",
   "metadata": {},
   "outputs": [
    {
     "ename": "NameError",
     "evalue": "name 'DELIJN' is not defined",
     "output_type": "error",
     "traceback": [
      "\u001B[1;31m---------------------------------------------------------------------------\u001B[0m",
      "\u001B[1;31mNameError\u001B[0m                                 Traceback (most recent call last)",
      "\u001B[1;32m~\\AppData\\Local\\Temp\\ipykernel_7308\\419842256.py\u001B[0m in \u001B[0;36m<cell line: 0>\u001B[1;34m()\u001B[0m\n\u001B[0;32m     11\u001B[0m \u001B[1;33m\u001B[0m\u001B[0m\n\u001B[0;32m     12\u001B[0m \u001B[1;31m# add the agency\u001B[0m\u001B[1;33m\u001B[0m\u001B[1;33m\u001B[0m\u001B[0m\n\u001B[1;32m---> 13\u001B[1;33m \u001B[0mstops_df\u001B[0m \u001B[1;33m=\u001B[0m \u001B[0madd_agency_name_column\u001B[0m\u001B[1;33m(\u001B[0m\u001B[0mstops_df\u001B[0m\u001B[1;33m.\u001B[0m\u001B[0mmerge\u001B[0m\u001B[1;33m(\u001B[0m\u001B[0mgtfs\u001B[0m\u001B[1;33m.\u001B[0m\u001B[0m_crosstab_stop_agency\u001B[0m\u001B[1;33m,\u001B[0m \u001B[0mon\u001B[0m\u001B[1;33m=\u001B[0m\u001B[1;34m'stop_id'\u001B[0m\u001B[1;33m,\u001B[0m \u001B[0mhow\u001B[0m\u001B[1;33m=\u001B[0m\u001B[1;34m'left'\u001B[0m\u001B[1;33m)\u001B[0m\u001B[1;33m,\u001B[0m \u001B[0mgtfs\u001B[0m\u001B[1;33m.\u001B[0m\u001B[0magency\u001B[0m\u001B[1;33m.\u001B[0m\u001B[0mdata\u001B[0m\u001B[1;33m)\u001B[0m\u001B[1;33m\u001B[0m\u001B[1;33m\u001B[0m\u001B[0m\n\u001B[0m\u001B[0;32m     14\u001B[0m \u001B[1;33m\u001B[0m\u001B[0m\n\u001B[0;32m     15\u001B[0m \u001B[1;31m# ensure level_id is added\u001B[0m\u001B[1;33m\u001B[0m\u001B[1;33m\u001B[0m\u001B[0m\n",
      "\u001B[1;32mD:\\projects\\gtfs-tools\\src\\gtfs_tools\\utils\\gtfs.py\u001B[0m in \u001B[0;36madd_agency_name_column\u001B[1;34m(data, agency_df, agency_id_column, agency_name_column)\u001B[0m\n\u001B[0;32m    396\u001B[0m         \u001B[0magency_name_column\u001B[0m\u001B[1;33m:\u001B[0m \u001B[0mColumn\u001B[0m \u001B[0mto\u001B[0m \u001B[0mbe\u001B[0m \u001B[0madded\u001B[0m \u001B[1;32mwith\u001B[0m \u001B[0magency\u001B[0m \u001B[0mnames\u001B[0m\u001B[1;33m.\u001B[0m \u001B[0mDefault\u001B[0m \u001B[1;32mis\u001B[0m\u001B[0;31m \u001B[0m\u001B[0;31m`\u001B[0m\u001B[0;31m`\u001B[0m\u001B[0magency_name\u001B[0m\u001B[0;31m`\u001B[0m\u001B[0;31m`\u001B[0m\u001B[1;33m.\u001B[0m\u001B[1;33m\u001B[0m\u001B[1;33m\u001B[0m\u001B[0m\n\u001B[0;32m    397\u001B[0m     \"\"\"\n\u001B[1;32m--> 398\u001B[1;33m     df = add_description_column_from_id_column(\n\u001B[0m\u001B[0;32m    399\u001B[0m         \u001B[0mdata\u001B[0m\u001B[1;33m,\u001B[0m\u001B[1;33m\u001B[0m\u001B[1;33m\u001B[0m\u001B[0m\n\u001B[0;32m    400\u001B[0m         \u001B[0mlookup_dataframe\u001B[0m\u001B[1;33m=\u001B[0m\u001B[0magency_df\u001B[0m\u001B[1;33m,\u001B[0m\u001B[1;33m\u001B[0m\u001B[1;33m\u001B[0m\u001B[0m\n",
      "\u001B[1;32mD:\\projects\\gtfs-tools\\src\\gtfs_tools\\utils\\gtfs.py\u001B[0m in \u001B[0;36madd_description_column_from_id_column\u001B[1;34m(data, lookup_dataframe, lookup_id_column, lookup_description_column, id_column, description_column, description_separator)\u001B[0m\n\u001B[0;32m    362\u001B[0m \u001B[1;33m\u001B[0m\u001B[0m\n\u001B[0;32m    363\u001B[0m     \u001B[1;31m# populate the description column\u001B[0m\u001B[1;33m\u001B[0m\u001B[1;33m\u001B[0m\u001B[0m\n\u001B[1;32m--> 364\u001B[1;33m     df[description_column] = df[id_column].apply(\n\u001B[0m\u001B[0;32m    365\u001B[0m         lambda id_val: get_description_from_id(\n\u001B[0;32m    366\u001B[0m             \u001B[0mlookup_dataframe\u001B[0m\u001B[1;33m,\u001B[0m\u001B[1;33m\u001B[0m\u001B[1;33m\u001B[0m\u001B[0m\n",
      "\u001B[1;32mD:\\projects\\gtfs-tools\\env\\Lib\\site-packages\\pandas\\core\\series.py\u001B[0m in \u001B[0;36mapply\u001B[1;34m(self, func, convert_dtype, args, **kwargs)\u001B[0m\n\u001B[0;32m   4628\u001B[0m         \u001B[0mdtype\u001B[0m\u001B[1;33m:\u001B[0m \u001B[0mfloat64\u001B[0m\u001B[1;33m\u001B[0m\u001B[1;33m\u001B[0m\u001B[0m\n\u001B[0;32m   4629\u001B[0m         \"\"\"\n\u001B[1;32m-> 4630\u001B[1;33m         \u001B[1;32mreturn\u001B[0m \u001B[0mSeriesApply\u001B[0m\u001B[1;33m(\u001B[0m\u001B[0mself\u001B[0m\u001B[1;33m,\u001B[0m \u001B[0mfunc\u001B[0m\u001B[1;33m,\u001B[0m \u001B[0mconvert_dtype\u001B[0m\u001B[1;33m,\u001B[0m \u001B[0margs\u001B[0m\u001B[1;33m,\u001B[0m \u001B[0mkwargs\u001B[0m\u001B[1;33m)\u001B[0m\u001B[1;33m.\u001B[0m\u001B[0mapply\u001B[0m\u001B[1;33m(\u001B[0m\u001B[1;33m)\u001B[0m\u001B[1;33m\u001B[0m\u001B[1;33m\u001B[0m\u001B[0m\n\u001B[0m\u001B[0;32m   4631\u001B[0m \u001B[1;33m\u001B[0m\u001B[0m\n\u001B[0;32m   4632\u001B[0m     def _reduce(\n",
      "\u001B[1;32mD:\\projects\\gtfs-tools\\env\\Lib\\site-packages\\pandas\\core\\apply.py\u001B[0m in \u001B[0;36mapply\u001B[1;34m(self)\u001B[0m\n\u001B[0;32m   1023\u001B[0m \u001B[1;33m\u001B[0m\u001B[0m\n\u001B[0;32m   1024\u001B[0m         \u001B[1;31m# self.f is Callable\u001B[0m\u001B[1;33m\u001B[0m\u001B[1;33m\u001B[0m\u001B[0m\n\u001B[1;32m-> 1025\u001B[1;33m         \u001B[1;32mreturn\u001B[0m \u001B[0mself\u001B[0m\u001B[1;33m.\u001B[0m\u001B[0mapply_standard\u001B[0m\u001B[1;33m(\u001B[0m\u001B[1;33m)\u001B[0m\u001B[1;33m\u001B[0m\u001B[1;33m\u001B[0m\u001B[0m\n\u001B[0m\u001B[0;32m   1026\u001B[0m \u001B[1;33m\u001B[0m\u001B[0m\n\u001B[0;32m   1027\u001B[0m     \u001B[1;32mdef\u001B[0m \u001B[0magg\u001B[0m\u001B[1;33m(\u001B[0m\u001B[0mself\u001B[0m\u001B[1;33m)\u001B[0m\u001B[1;33m:\u001B[0m\u001B[1;33m\u001B[0m\u001B[1;33m\u001B[0m\u001B[0m\n",
      "\u001B[1;32mD:\\projects\\gtfs-tools\\env\\Lib\\site-packages\\pandas\\core\\apply.py\u001B[0m in \u001B[0;36mapply_standard\u001B[1;34m(self)\u001B[0m\n\u001B[0;32m   1074\u001B[0m             \u001B[1;32melse\u001B[0m\u001B[1;33m:\u001B[0m\u001B[1;33m\u001B[0m\u001B[1;33m\u001B[0m\u001B[0m\n\u001B[0;32m   1075\u001B[0m                 \u001B[0mvalues\u001B[0m \u001B[1;33m=\u001B[0m \u001B[0mobj\u001B[0m\u001B[1;33m.\u001B[0m\u001B[0mastype\u001B[0m\u001B[1;33m(\u001B[0m\u001B[0mobject\u001B[0m\u001B[1;33m)\u001B[0m\u001B[1;33m.\u001B[0m\u001B[0m_values\u001B[0m\u001B[1;33m\u001B[0m\u001B[1;33m\u001B[0m\u001B[0m\n\u001B[1;32m-> 1076\u001B[1;33m                 mapped = lib.map_infer(\n\u001B[0m\u001B[0;32m   1077\u001B[0m                     \u001B[0mvalues\u001B[0m\u001B[1;33m,\u001B[0m\u001B[1;33m\u001B[0m\u001B[1;33m\u001B[0m\u001B[0m\n\u001B[0;32m   1078\u001B[0m                     \u001B[0mf\u001B[0m\u001B[1;33m,\u001B[0m\u001B[1;33m\u001B[0m\u001B[1;33m\u001B[0m\u001B[0m\n",
      "\u001B[1;32mD:\\projects\\gtfs-tools\\env\\Lib\\site-packages\\pandas\\_libs\\lib.pyx\u001B[0m in \u001B[0;36mpandas._libs.lib.map_infer\u001B[1;34m()\u001B[0m\n",
      "\u001B[1;32mD:\\projects\\gtfs-tools\\src\\gtfs_tools\\utils\\gtfs.py\u001B[0m in \u001B[0;36m<lambda>\u001B[1;34m(id_val)\u001B[0m\n\u001B[0;32m    363\u001B[0m     \u001B[1;31m# populate the description column\u001B[0m\u001B[1;33m\u001B[0m\u001B[1;33m\u001B[0m\u001B[0m\n\u001B[0;32m    364\u001B[0m     df[description_column] = df[id_column].apply(\n\u001B[1;32m--> 365\u001B[1;33m         lambda id_val: get_description_from_id(\n\u001B[0m\u001B[0;32m    366\u001B[0m             \u001B[0mlookup_dataframe\u001B[0m\u001B[1;33m,\u001B[0m\u001B[1;33m\u001B[0m\u001B[1;33m\u001B[0m\u001B[0m\n\u001B[0;32m    367\u001B[0m             \u001B[0mid_string\u001B[0m\u001B[1;33m=\u001B[0m\u001B[0mid_val\u001B[0m\u001B[1;33m,\u001B[0m\u001B[1;33m\u001B[0m\u001B[1;33m\u001B[0m\u001B[0m\n",
      "\u001B[1;32mD:\\projects\\gtfs-tools\\src\\gtfs_tools\\utils\\gtfs.py\u001B[0m in \u001B[0;36mget_description_from_id\u001B[1;34m(lookup_dataframe, id_string, id_column, description_column, description_separator)\u001B[0m\n\u001B[0;32m    318\u001B[0m \u001B[1;33m\u001B[0m\u001B[0m\n\u001B[0;32m    319\u001B[0m         \u001B[1;31m# get the individual agency ids from the comma separated values (eval enables processing quote enclosed strings)\u001B[0m\u001B[1;33m\u001B[0m\u001B[1;33m\u001B[0m\u001B[0m\n\u001B[1;32m--> 320\u001B[1;33m         \u001B[0mid_eval\u001B[0m \u001B[1;33m=\u001B[0m \u001B[0meval\u001B[0m\u001B[1;33m(\u001B[0m\u001B[0mid_string\u001B[0m\u001B[1;33m)\u001B[0m\u001B[1;33m\u001B[0m\u001B[1;33m\u001B[0m\u001B[0m\n\u001B[0m\u001B[0;32m    321\u001B[0m \u001B[1;33m\u001B[0m\u001B[0m\n\u001B[0;32m    322\u001B[0m         \u001B[1;31m# now, rebuild back into list of strings\u001B[0m\u001B[1;33m\u001B[0m\u001B[1;33m\u001B[0m\u001B[0m\n",
      "\u001B[1;32mD:\\projects\\gtfs-tools\\src\\gtfs_tools\\utils\\gtfs.py\u001B[0m in \u001B[0;36m<module>\u001B[1;34m\u001B[0m\n",
      "\u001B[1;31mNameError\u001B[0m: name 'DELIJN' is not defined"
     ]
    }
   ],
   "source": [
    "# start creating the data frame by adding modalty and descriptions to the spatially enabled stop points data frame\n",
    "stops_df = gtfs.stops.sedf.join(gtfs.stops.modalities, on='stop_id', how='left').rename(columns={'route_type': 'esri_stop_type'})\n",
    "stops_df = add_modality_descriptions(stops_df, modality_codes_column='esri_stop_type', description_column='esri_stop_type_desc')\n",
    "\n",
    "# add location description column\n",
    "stops_df = add_location_descriptions(stops_df)\n",
    "\n",
    "# add standardized modalities with descriptions to the data\n",
    "stops_df = add_standarized_modality_column(stops_df, modality_column='esri_stop_type', standardized_modality_column='esri_stop_type_carto')\n",
    "stops_df = add_modality_descriptions(stops_df, modality_codes_column='esri_stop_type_carto', description_column='esri_stop_type_carto_desc')\n",
    "\n",
    "# add the agency\n",
    "stops_df = add_agency_name_column(stops_df.merge(gtfs._crosstab_stop_agency, on='stop_id', how='left'), gtfs.agency.data)\n",
    "\n",
    "# ensure level_id is added\n",
    "if 'level_id' not in stops_df.columns:\n",
    "    stops_df['level_id'] = None\n",
    "    stops_df['level_id'] = stops_df['level_id'].astype('string')\n",
    "\n",
    "# get any missing columns and make a filter for the ones that do exist\n",
    "missing_cols = [c for c in stop_dtype_dict.keys() if c not in stops_df.columns]\n",
    "keep_cols = [c for c in stop_dtype_dict.keys() if c in stops_df.columns] + ['SHAPE']\n",
    "\n",
    "# set default excluded value\n",
    "stops_df['esri_excluded'] = False\n",
    "\n",
    "# add any missing columns to ensure consistent schema\n",
    "for col in missing_cols:\n",
    "    stops_df[col] = None\n",
    "    stops_df[col] = stops_df[col].astype(stop_dtype_dict[col])\n",
    "\n",
    "# reorganize schema and remove any potentially added duplicates\n",
    "stops_df = stops_df[list(stop_dtype_dict.keys()) + ['SHAPE']]\n",
    "\n",
    "# set the geometry so the spatially enabled data frame works\n",
    "stops_df.spatial.set_geometry('SHAPE')\n",
    "\n",
    "print(f'Missing Columns: {missing_cols}')\n",
    "stops_df.info()\n",
    "stops_df.head()"
   ]
  },
  {
   "cell_type": "code",
   "execution_count": null,
   "id": "34c84119-5336-41dc-b201-8828cf1dc786",
   "metadata": {},
   "outputs": [],
   "source": [
    "stops_df['esri_date_received'] = datetime.datetime(2024, 8, 13, 16, 1, 1)\n",
    "\n",
    "stops_df.head()"
   ]
  },
  {
   "cell_type": "code",
   "execution_count": 12,
   "id": "bd05c09f-2646-4574-8be8-1908c1bd6bbc",
   "metadata": {},
   "outputs": [],
   "source": [
    "stops_df.spatial.set_geometry('SHAPE')"
   ]
  },
  {
   "cell_type": "code",
   "execution_count": 15,
   "id": "2dfa59a2-2153-49c7-98eb-f9889d555f9a",
   "metadata": {},
   "outputs": [],
   "source": [
    "if not arcpy.Exists(str(gdb_pth)):\n",
    "    arcpy.management.CreateFileGDB(str(gdb_pth.parent), str(gdb_pth.stem))"
   ]
  },
  {
   "cell_type": "code",
   "execution_count": 16,
   "id": "2230def9-2e8a-4f51-ac8b-c07278dbc962",
   "metadata": {},
   "outputs": [
    {
     "data": {
      "text/plain": [
       "'\\\\\\\\DevBA00007\\\\data\\\\gtfs_publishing\\\\raw\\\\esri_switzerland_gtfsfp202520240923zip_2024-09-26_11_58\\\\gtfs.gdb\\\\stops'"
      ]
     },
     "execution_count": 16,
     "metadata": {},
     "output_type": "execute_result"
    }
   ],
   "source": [
    "stops_df.spatial.to_featureclass(stop_pth)"
   ]
  },
  {
   "cell_type": "markdown",
   "id": "ab71e2ac-e0d5-4657-88be-a240d5b7726a",
   "metadata": {},
   "source": [
    "#### Route Lines"
   ]
  },
  {
   "cell_type": "code",
   "execution_count": 7,
   "id": "25a37d96-9f3d-4987-a298-663294816ff9",
   "metadata": {},
   "outputs": [
    {
     "name": "stdout",
     "output_type": "stream",
     "text": [
      "Missing Columns: ['esri_contributor', 'esri_date_received', 'esri_date_processed', 'esri_excluded']\n",
      "<class 'pandas.core.frame.DataFrame'>\n",
      "RangeIndex: 15 entries, 0 to 14\n",
      "Data columns (total 14 columns):\n",
      " #   Column                      Non-Null Count  Dtype   \n",
      "---  ------                      --------------  -----   \n",
      " 0   agency_id                   15 non-null     object  \n",
      " 1   route_id                    15 non-null     object  \n",
      " 2   route_short_name            15 non-null     object  \n",
      " 3   route_long_name             15 non-null     object  \n",
      " 4   route_desc                  0 non-null      float64 \n",
      " 5   route_type                  15 non-null     object  \n",
      " 6   route_url                   0 non-null      float64 \n",
      " 7   route_color                 15 non-null     object  \n",
      " 8   shape_id                    15 non-null     object  \n",
      " 9   agency_name                 15 non-null     object  \n",
      " 10  route_type_text             15 non-null     object  \n",
      " 11  esri_route_type_carto       15 non-null     object  \n",
      " 12  esri_route_type_carto_desc  15 non-null     object  \n",
      " 13  SHAPE                       15 non-null     geometry\n",
      "dtypes: float64(2), geometry(1), object(11)\n",
      "memory usage: 1.8+ KB\n"
     ]
    },
    {
     "data": {
      "text/html": [
       "<div>\n",
       "<style scoped>\n",
       "    .dataframe tbody tr th:only-of-type {\n",
       "        vertical-align: middle;\n",
       "    }\n",
       "\n",
       "    .dataframe tbody tr th {\n",
       "        vertical-align: top;\n",
       "    }\n",
       "\n",
       "    .dataframe thead th {\n",
       "        text-align: right;\n",
       "    }\n",
       "</style>\n",
       "<table border=\"1\" class=\"dataframe\">\n",
       "  <thead>\n",
       "    <tr style=\"text-align: right;\">\n",
       "      <th></th>\n",
       "      <th>agency_id</th>\n",
       "      <th>route_id</th>\n",
       "      <th>route_short_name</th>\n",
       "      <th>route_long_name</th>\n",
       "      <th>route_desc</th>\n",
       "      <th>route_type</th>\n",
       "      <th>route_url</th>\n",
       "      <th>route_color</th>\n",
       "      <th>shape_id</th>\n",
       "      <th>agency_name</th>\n",
       "      <th>route_type_text</th>\n",
       "      <th>esri_route_type_carto</th>\n",
       "      <th>esri_route_type_carto_desc</th>\n",
       "      <th>SHAPE</th>\n",
       "    </tr>\n",
       "  </thead>\n",
       "  <tbody>\n",
       "    <tr>\n",
       "      <th>0</th>\n",
       "      <td>806</td>\n",
       "      <td>10099</td>\n",
       "      <td>FRA</td>\n",
       "      <td>Fraser/Black Line</td>\n",
       "      <td>NaN</td>\n",
       "      <td>3</td>\n",
       "      <td>NaN</td>\n",
       "      <td>2a2a2a</td>\n",
       "      <td>p_177613</td>\n",
       "      <td>The Lift</td>\n",
       "      <td>bus</td>\n",
       "      <td>3</td>\n",
       "      <td>bus</td>\n",
       "      <td>{\"paths\": [[[-105.76172716672248, 39.883615422...</td>\n",
       "    </tr>\n",
       "    <tr>\n",
       "      <th>1</th>\n",
       "      <td>806</td>\n",
       "      <td>10099</td>\n",
       "      <td>FRA</td>\n",
       "      <td>Fraser/Black Line</td>\n",
       "      <td>NaN</td>\n",
       "      <td>3</td>\n",
       "      <td>NaN</td>\n",
       "      <td>2a2a2a</td>\n",
       "      <td>p_787965</td>\n",
       "      <td>The Lift</td>\n",
       "      <td>bus</td>\n",
       "      <td>3</td>\n",
       "      <td>bus</td>\n",
       "      <td>{\"paths\": [[[-105.784927, 39.917198], [-105.78...</td>\n",
       "    </tr>\n",
       "    <tr>\n",
       "      <th>2</th>\n",
       "      <td>806</td>\n",
       "      <td>10099</td>\n",
       "      <td>FRA</td>\n",
       "      <td>Fraser/Black Line</td>\n",
       "      <td>NaN</td>\n",
       "      <td>3</td>\n",
       "      <td>NaN</td>\n",
       "      <td>2a2a2a</td>\n",
       "      <td>p_177614</td>\n",
       "      <td>The Lift</td>\n",
       "      <td>bus</td>\n",
       "      <td>3</td>\n",
       "      <td>bus</td>\n",
       "      <td>{\"paths\": [[[-105.812309, 39.945946], [-105.81...</td>\n",
       "    </tr>\n",
       "    <tr>\n",
       "      <th>3</th>\n",
       "      <td>806</td>\n",
       "      <td>10096</td>\n",
       "      <td>RED</td>\n",
       "      <td>Rendezvous/Red Line</td>\n",
       "      <td>NaN</td>\n",
       "      <td>3</td>\n",
       "      <td>NaN</td>\n",
       "      <td>fe011f</td>\n",
       "      <td>p_177617</td>\n",
       "      <td>The Lift</td>\n",
       "      <td>bus</td>\n",
       "      <td>3</td>\n",
       "      <td>bus</td>\n",
       "      <td>{\"paths\": [[[-105.76172716672248, 39.883615422...</td>\n",
       "    </tr>\n",
       "    <tr>\n",
       "      <th>4</th>\n",
       "      <td>806</td>\n",
       "      <td>10103</td>\n",
       "      <td>GR</td>\n",
       "      <td>Granby Regional Commuter</td>\n",
       "      <td>NaN</td>\n",
       "      <td>3</td>\n",
       "      <td>NaN</td>\n",
       "      <td>808080</td>\n",
       "      <td>p_177627</td>\n",
       "      <td>The Lift</td>\n",
       "      <td>bus</td>\n",
       "      <td>3</td>\n",
       "      <td>bus</td>\n",
       "      <td>{\"paths\": [[[-105.92525558889, 40.061079254010...</td>\n",
       "    </tr>\n",
       "  </tbody>\n",
       "</table>\n",
       "</div>"
      ],
      "text/plain": [
       "  agency_id route_id route_short_name           route_long_name  route_desc  \\\n",
       "0       806    10099              FRA         Fraser/Black Line         NaN   \n",
       "1       806    10099              FRA         Fraser/Black Line         NaN   \n",
       "2       806    10099              FRA         Fraser/Black Line         NaN   \n",
       "3       806    10096              RED       Rendezvous/Red Line         NaN   \n",
       "4       806    10103               GR  Granby Regional Commuter         NaN   \n",
       "\n",
       "  route_type  route_url route_color  shape_id agency_name route_type_text  \\\n",
       "0          3        NaN      2a2a2a  p_177613    The Lift             bus   \n",
       "1          3        NaN      2a2a2a  p_787965    The Lift             bus   \n",
       "2          3        NaN      2a2a2a  p_177614    The Lift             bus   \n",
       "3          3        NaN      fe011f  p_177617    The Lift             bus   \n",
       "4          3        NaN      808080  p_177627    The Lift             bus   \n",
       "\n",
       "  esri_route_type_carto esri_route_type_carto_desc  \\\n",
       "0                     3                        bus   \n",
       "1                     3                        bus   \n",
       "2                     3                        bus   \n",
       "3                     3                        bus   \n",
       "4                     3                        bus   \n",
       "\n",
       "                                               SHAPE  \n",
       "0  {\"paths\": [[[-105.76172716672248, 39.883615422...  \n",
       "1  {\"paths\": [[[-105.784927, 39.917198], [-105.78...  \n",
       "2  {\"paths\": [[[-105.812309, 39.945946], [-105.81...  \n",
       "3  {\"paths\": [[[-105.76172716672248, 39.883615422...  \n",
       "4  {\"paths\": [[[-105.92525558889, 40.061079254010...  "
      ]
     },
     "execution_count": 7,
     "metadata": {},
     "output_type": "execute_result"
    }
   ],
   "source": [
    "# start creating the data frame by adding agency name to the spatially enabled route lines data frame\n",
    "routes_df = add_agency_name_column(gtfs.routes.sedf, gtfs.agency.data)\n",
    "\n",
    "# add the modality descriptions to the data\n",
    "routes_df = add_modality_descriptions(routes_df , modality_codes_column='route_type', description_column='route_type_text')\n",
    "\n",
    "# add standardized modalities with descriptions to the data\n",
    "routes_df = add_standarized_modality_column(routes_df, modality_column='route_type', standardized_modality_column='esri_route_type_carto')\n",
    "routes_df = add_modality_descriptions(routes_df, modality_codes_column='esri_route_type_carto', description_column='esri_route_type_carto_desc')\n",
    "\n",
    "# add default route color\n",
    "routes_df['route_color'] = routes_df['route_color'].fillna(\"828282\")\n",
    "\n",
    "# get any missing columns and make a filter for the ones that do exist\n",
    "missing_cols = [c for c in line_dtype_dict.keys() if c not in routes_df.columns]\n",
    "keep_cols = [c for c in routes_df.columns if c in line_dtype_dict.keys()] + ['SHAPE']\n",
    "\n",
    "# reorganize schema\n",
    "routes_df = routes_df.loc[:,keep_cols]\n",
    "\n",
    "# set the geometry so the spatially enabled data frame works\n",
    "routes_df.spatial.set_geometry('SHAPE')\n",
    "\n",
    "print(f'Missing Columns: {missing_cols}')\n",
    "routes_df.info()\n",
    "routes_df.head()"
   ]
  },
  {
   "cell_type": "markdown",
   "id": "d3f6237c-7ab7-423d-9066-edb08d9411bc",
   "metadata": {
    "jp-MarkdownHeadingCollapsed": true,
    "tags": []
   },
   "source": [
    "## Data Introspection"
   ]
  },
  {
   "cell_type": "code",
   "execution_count": 7,
   "id": "64269a59-090f-49d2-8e68-656a097fd2ae",
   "metadata": {
    "tags": []
   },
   "outputs": [
    {
     "data": {
      "text/plain": [
       "OBJECTID                               Int64\n",
       "shape_id                      string[python]\n",
       "route_id                      string[python]\n",
       "agency_id                     string[python]\n",
       "agency_name                   string[python]\n",
       "route_short_name              string[python]\n",
       "route_long_name               string[python]\n",
       "route_desc                    string[python]\n",
       "route_type                    string[python]\n",
       "route_url                     string[python]\n",
       "route_color                   string[python]\n",
       "route_text_color              string[python]\n",
       "route_type_text               string[python]\n",
       "esri_route_type_carto         string[python]\n",
       "esri_route_type_carto_desc    string[python]\n",
       "esri_contributor              string[python]\n",
       "esri_date_received            datetime64[us]\n",
       "esri_date_processed           datetime64[us]\n",
       "esri_excluded                          Int32\n",
       "SHAPE                               geometry\n",
       "dtype: object"
      ]
     },
     "execution_count": 7,
     "metadata": {},
     "output_type": "execute_result"
    }
   ],
   "source": [
    "line_df = GeoAccessor.from_featureclass(line_pth)\n",
    "\n",
    "line_dtypes = line_df.dtypes\n",
    "\n",
    "line_dtypes"
   ]
  },
  {
   "cell_type": "code",
   "execution_count": 9,
   "id": "5ae3f0e3-def2-48a9-a7a1-4554ded0062e",
   "metadata": {},
   "outputs": [
    {
     "data": {
      "text/plain": [
       "OBJECTID                              Int64\n",
       "stop_id                      string[python]\n",
       "stop_code                    string[python]\n",
       "stop_name                    string[python]\n",
       "tts_stop_name                string[python]\n",
       "stop_desc                    string[python]\n",
       "stop_lat                            Float64\n",
       "stop_lon                            Float64\n",
       "zone_id                      string[python]\n",
       "stop_url                     string[python]\n",
       "location_type                string[python]\n",
       "parent_station               string[python]\n",
       "stop_timezone                string[python]\n",
       "wheelchair_boarding          string[python]\n",
       "level_id                     string[python]\n",
       "platform_code                string[python]\n",
       "esri_contributor             string[python]\n",
       "esri_date_received           datetime64[us]\n",
       "esri_stop_type               string[python]\n",
       "esri_stop_type_desc          string[python]\n",
       "esri_stop_type_carto         string[python]\n",
       "esri_stop_type_carto_desc    string[python]\n",
       "esri_location_type_desc      string[python]\n",
       "agency_id                    string[python]\n",
       "agency_name                  string[python]\n",
       "esri_date_processed          datetime64[us]\n",
       "esri_excluded                         Int32\n",
       "SHAPE                              geometry\n",
       "dtype: object"
      ]
     },
     "execution_count": 9,
     "metadata": {},
     "output_type": "execute_result"
    }
   ],
   "source": [
    "stop_df = GeoAccessor.from_featureclass(stop_pth)\n",
    "\n",
    "stop_dtypes = stop_df.dtypes\n",
    "\n",
    "stop_dtypes"
   ]
  },
  {
   "cell_type": "code",
   "execution_count": 15,
   "id": "14112d2b-1dbf-46d3-933d-f263c87d00ed",
   "metadata": {},
   "outputs": [
    {
     "name": "stdout",
     "output_type": "stream",
     "text": [
      "'stop_id': 'string',\n",
      "'stop_code': 'string',\n",
      "'stop_name': 'string',\n",
      "'tts_stop_name': 'string',\n",
      "'stop_desc': 'string',\n",
      "'stop_lat': 'Float64',\n",
      "'stop_lon': 'Float64',\n",
      "'zone_id': 'string',\n",
      "'stop_url': 'string',\n",
      "'location_type': 'string',\n",
      "'parent_station': 'string',\n",
      "'stop_timezone': 'string',\n",
      "'wheelchair_boarding': 'string',\n",
      "'level_id': 'string',\n",
      "'platform_code': 'string',\n",
      "'esri_contributor': 'string',\n",
      "'esri_date_received': 'datetime64[us]',\n",
      "'esri_stop_type': 'string',\n",
      "'esri_stop_type_desc': 'string',\n",
      "'esri_stop_type_carto': 'string',\n",
      "'esri_stop_type_carto_desc': 'string',\n",
      "'esri_location_type_desc': 'string',\n",
      "'agency_id': 'string',\n",
      "'agency_name': 'string',\n",
      "'esri_date_processed': 'datetime64[us]',\n",
      "'esri_excluded': 'Int32',\n",
      "'SHAPE': 'geometry',\n"
     ]
    }
   ],
   "source": [
    "for col, typ in zip(stop_df.columns, stop_df.dtypes):\n",
    "    if col != 'OBJECTID':\n",
    "        print(f\"'{col}': '{typ}',\")"
   ]
  },
  {
   "cell_type": "code",
   "execution_count": null,
   "id": "b9142092-a63c-4a37-82e3-749cbef63e2b",
   "metadata": {},
   "outputs": [],
   "source": []
  }
 ],
 "metadata": {
  "kernelspec": {
   "display_name": "Python 3 (ipykernel)",
   "language": "python",
   "name": "python3"
  },
  "language_info": {
   "codemirror_mode": {
    "name": "ipython",
    "version": 3
   },
   "file_extension": ".py",
   "mimetype": "text/x-python",
   "name": "python",
   "nbconvert_exporter": "python",
   "pygments_lexer": "ipython3",
   "version": "3.11.8"
  }
 },
 "nbformat": 4,
 "nbformat_minor": 5
}
