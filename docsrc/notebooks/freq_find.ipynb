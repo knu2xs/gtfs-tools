{
 "cells": [
  {
   "cell_type": "code",
   "execution_count": 1,
   "id": "1a3b25dc-1e54-4997-bc9c-85a69f5518a6",
   "metadata": {},
   "outputs": [],
   "source": [
    "from pathlib import Path"
   ]
  },
  {
   "cell_type": "code",
   "execution_count": 3,
   "id": "f7f2c551-d8ef-43cf-9d55-cf83af4517b8",
   "metadata": {},
   "outputs": [
    {
     "data": {
      "text/plain": [
       "True"
      ]
     },
     "execution_count": 3,
     "metadata": {},
     "output_type": "execute_result"
    }
   ],
   "source": [
    "dir_raw = Path(r\"D:\\projects\\GTFS-Publishing\\data\\raw\")\n",
    "\n",
    "dir_raw.exists()"
   ]
  },
  {
   "cell_type": "code",
   "execution_count": 10,
   "id": "79aae8bf-7735-426b-8dc0-b030738ed3fb",
   "metadata": {},
   "outputs": [
    {
     "data": {
      "text/plain": [
       "[]"
      ]
     },
     "execution_count": 10,
     "metadata": {},
     "output_type": "execute_result"
    }
   ],
   "source": [
    "list(dir_raw.glob('**/agency.txt'))"
   ]
  },
  {
   "cell_type": "code",
   "execution_count": null,
   "id": "5a529808-b439-4726-a4d8-ce298dad95c9",
   "metadata": {},
   "outputs": [],
   "source": []
  },
  {
   "cell_type": "code",
   "execution_count": null,
   "id": "611705a6-7e59-40ee-99cd-ba8fb84e2969",
   "metadata": {},
   "outputs": [],
   "source": []
  }
 ],
 "metadata": {
  "kernelspec": {
   "display_name": "Python 3 (ipykernel)",
   "language": "python",
   "name": "python3"
  },
  "language_info": {
   "codemirror_mode": {
    "name": "ipython",
    "version": 3
   },
   "file_extension": ".py",
   "mimetype": "text/x-python",
   "name": "python",
   "nbconvert_exporter": "python",
   "pygments_lexer": "ipython3",
   "version": "3.11.8"
  }
 },
 "nbformat": 4,
 "nbformat_minor": 5
}
