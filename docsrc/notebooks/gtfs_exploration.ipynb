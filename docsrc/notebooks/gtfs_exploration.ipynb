{
 "cells": [
  {
   "cell_type": "code",
   "execution_count": 6,
   "id": "05605e8f-9a0b-42d9-8e4b-2f0d1c2fcb3b",
   "metadata": {},
   "outputs": [
    {
     "ename": "ImportError",
     "evalue": "cannot import name 'get_route_types_table' from 'gtfs_tools.utils.gtfs' (D:\\projects\\gtfs-tools\\src\\gtfs_tools\\utils\\gtfs.py)",
     "output_type": "error",
     "traceback": [
      "\u001B[1;31m---------------------------------------------------------------------------\u001B[0m",
      "\u001B[1;31mImportError\u001B[0m                               Traceback (most recent call last)",
      "\u001B[1;32m~\\AppData\\Local\\Temp\\ipykernel_14472\\544721610.py\u001B[0m in \u001B[0;36m<cell line: 0>\u001B[1;34m()\u001B[0m\n\u001B[0;32m      5\u001B[0m \u001B[1;33m\u001B[0m\u001B[0m\n\u001B[0;32m      6\u001B[0m \u001B[1;32mfrom\u001B[0m \u001B[0mgtfs_tools\u001B[0m\u001B[1;33m.\u001B[0m\u001B[0mgtfs\u001B[0m \u001B[1;32mimport\u001B[0m \u001B[0mGtfsDataset\u001B[0m\u001B[1;33m\u001B[0m\u001B[1;33m\u001B[0m\u001B[0m\n\u001B[1;32m----> 7\u001B[1;33m \u001B[1;32mfrom\u001B[0m \u001B[0mgtfs_tools\u001B[0m\u001B[1;33m.\u001B[0m\u001B[0mutils\u001B[0m\u001B[1;33m.\u001B[0m\u001B[0mgtfs\u001B[0m \u001B[1;32mimport\u001B[0m \u001B[0mget_route_types_table\u001B[0m\u001B[1;33m\u001B[0m\u001B[1;33m\u001B[0m\u001B[0m\n\u001B[0m",
      "\u001B[1;31mImportError\u001B[0m: cannot import name 'get_route_types_table' from 'gtfs_tools.utils.gtfs' (D:\\projects\\gtfs-tools\\src\\gtfs_tools\\utils\\gtfs.py)"
     ]
    }
   ],
   "source": [
    "from pathlib import Path\n",
    "\n",
    "import pandas as pd\n",
    "import numpy as np\n",
    "\n",
    "from gtfs_tools.gtfs import GtfsDataset\n",
    "from gtfs_tools.utils.gtfs import get_route_types_table"
   ]
  },
  {
   "cell_type": "code",
   "execution_count": 2,
   "id": "177d2200-c0ae-41c2-8e4e-1f085ae9e929",
   "metadata": {},
   "outputs": [],
   "source": [
    "pth = r'D:\\projects\\gtfs-tools\\data\\raw\\gtfs_msp_cbsa\\mdb_source_id=784'"
   ]
  },
  {
   "cell_type": "code",
   "execution_count": 4,
   "id": "bb725fde-a206-49ca-b614-a62feed98e9d",
   "metadata": {},
   "outputs": [
    {
     "data": {
      "text/plain": [
       "GtfsDataset: D:\\projects\\gtfs-tools\\data\\raw\\gtfs_msp_cbsa\\mdb_source_id=784"
      ]
     },
     "execution_count": 4,
     "metadata": {},
     "output_type": "execute_result"
    }
   ],
   "source": [
    "gtfs = GtfsDataset(pth)\n",
    "\n",
    "gtfs"
   ]
  },
  {
   "cell_type": "code",
   "execution_count": 5,
   "id": "156c87ae-a4c9-4be0-a72e-35a18e5288e4",
   "metadata": {},
   "outputs": [
    {
     "name": "stdout",
     "output_type": "stream",
     "text": [
      "<class 'pandas.core.frame.DataFrame'>\n",
      "Index: 1186982 entries, de:06413:8041:2:2 to 000012219773\n",
      "Data columns (total 1 columns):\n",
      " #   Column      Non-Null Count    Dtype \n",
      "---  ------      --------------    ----- \n",
      " 0   route_type  1186937 non-null  object\n",
      "dtypes: object(1)\n",
      "memory usage: 18.1+ MB\n"
     ]
    },
    {
     "data": {
      "text/html": [
       "<div>\n",
       "<style scoped>\n",
       "    .dataframe tbody tr th:only-of-type {\n",
       "        vertical-align: middle;\n",
       "    }\n",
       "\n",
       "    .dataframe tbody tr th {\n",
       "        vertical-align: top;\n",
       "    }\n",
       "\n",
       "    .dataframe thead th {\n",
       "        text-align: right;\n",
       "    }\n",
       "</style>\n",
       "<table border=\"1\" class=\"dataframe\">\n",
       "  <thead>\n",
       "    <tr style=\"text-align: right;\">\n",
       "      <th></th>\n",
       "      <th>route_type</th>\n",
       "    </tr>\n",
       "    <tr>\n",
       "      <th>stop_id</th>\n",
       "      <th></th>\n",
       "    </tr>\n",
       "  </thead>\n",
       "  <tbody>\n",
       "    <tr>\n",
       "      <th>de:06413:8041:2:2</th>\n",
       "      <td>3</td>\n",
       "    </tr>\n",
       "    <tr>\n",
       "      <th>de:06413:8041:2:2</th>\n",
       "      <td>3</td>\n",
       "    </tr>\n",
       "    <tr>\n",
       "      <th>de:06413:8041:2:2</th>\n",
       "      <td>3</td>\n",
       "    </tr>\n",
       "    <tr>\n",
       "      <th>de:06413:8041:2:2</th>\n",
       "      <td>3</td>\n",
       "    </tr>\n",
       "    <tr>\n",
       "      <th>de:06413:8041:1:1</th>\n",
       "      <td>3</td>\n",
       "    </tr>\n",
       "    <tr>\n",
       "      <th>...</th>\n",
       "      <td>...</td>\n",
       "    </tr>\n",
       "    <tr>\n",
       "      <th>000012182775</th>\n",
       "      <td>106</td>\n",
       "    </tr>\n",
       "    <tr>\n",
       "      <th>000012190692</th>\n",
       "      <td>106</td>\n",
       "    </tr>\n",
       "    <tr>\n",
       "      <th>000012190693</th>\n",
       "      <td>106</td>\n",
       "    </tr>\n",
       "    <tr>\n",
       "      <th>000012219772</th>\n",
       "      <td>106</td>\n",
       "    </tr>\n",
       "    <tr>\n",
       "      <th>000012219773</th>\n",
       "      <td>106</td>\n",
       "    </tr>\n",
       "  </tbody>\n",
       "</table>\n",
       "<p>1186982 rows × 1 columns</p>\n",
       "</div>"
      ],
      "text/plain": [
       "                  route_type\n",
       "stop_id                     \n",
       "de:06413:8041:2:2          3\n",
       "de:06413:8041:2:2          3\n",
       "de:06413:8041:2:2          3\n",
       "de:06413:8041:2:2          3\n",
       "de:06413:8041:1:1          3\n",
       "...                      ...\n",
       "000012182775             106\n",
       "000012190692             106\n",
       "000012190693             106\n",
       "000012219772             106\n",
       "000012219773             106\n",
       "\n",
       "[1186982 rows x 1 columns]"
      ]
     },
     "execution_count": 5,
     "metadata": {},
     "output_type": "execute_result"
    }
   ],
   "source": [
    "gtfs.stops.modalities.info()\n",
    "gtfs.stops.modalities"
   ]
  },
  {
   "cell_type": "code",
   "execution_count": null,
   "id": "9213db1b-9218-4aeb-9ccf-21ed4630c6ed",
   "metadata": {},
   "outputs": [],
   "source": [
    "lookup_df = get_route_types_table()\n",
    "\n",
    "lookup_df.head(20)"
   ]
  },
  {
   "cell_type": "code",
   "execution_count": null,
   "id": "8b74df23-841c-409f-b2fe-0d1d3ff50e95",
   "metadata": {},
   "outputs": [],
   "source": []
  }
 ],
 "metadata": {
  "kernelspec": {
   "display_name": "Python 3 (ipykernel)",
   "language": "python",
   "name": "python3"
  },
  "language_info": {
   "codemirror_mode": {
    "name": "ipython",
    "version": 3
   },
   "file_extension": ".py",
   "mimetype": "text/x-python",
   "name": "python",
   "nbconvert_exporter": "python",
   "pygments_lexer": "ipython3",
   "version": "3.11.8"
  }
 },
 "nbformat": 4,
 "nbformat_minor": 5
}
