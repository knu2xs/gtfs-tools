{
 "cells": [
  {
   "cell_type": "code",
   "execution_count": 2,
   "id": "367357a2-a41d-4e19-bf8f-847e2bab9799",
   "metadata": {},
   "outputs": [],
   "source": [
    "from pathlib import Path"
   ]
  },
  {
   "cell_type": "code",
   "execution_count": 4,
   "id": "3ae5c627-ff88-4948-ad58-2df1d94ee03e",
   "metadata": {},
   "outputs": [
    {
     "data": {
      "text/plain": [
       "WindowsPath('D:/projects/gtfs-tools/data/external/external.gdb/cbsa_la_h3_08_centroids')"
      ]
     },
     "execution_count": 4,
     "metadata": {},
     "output_type": "execute_result"
    }
   ],
   "source": [
    "gtfs_pth = \n",
    "poi_pth = Path(r'D:\\projects\\gtfs-tools\\data\\external\\external.gdb\\cbsa_la_h3_08_centroids')\n",
    "\n",
    "\n",
    "poi_pth"
   ]
  },
  {
   "cell_type": "code",
   "execution_count": null,
   "id": "1610d389-47c2-44d5-ba76-a3bfad7d037d",
   "metadata": {},
   "outputs": [],
   "source": []
  }
 ],
 "metadata": {
  "kernelspec": {
   "display_name": "Python 3 (ipykernel)",
   "language": "python",
   "name": "python3"
  },
  "language_info": {
   "codemirror_mode": {
    "name": "ipython",
    "version": 3
   },
   "file_extension": ".py",
   "mimetype": "text/x-python",
   "name": "python",
   "nbconvert_exporter": "python",
   "pygments_lexer": "ipython3",
   "version": "3.11.8"
  }
 },
 "nbformat": 4,
 "nbformat_minor": 5
}
