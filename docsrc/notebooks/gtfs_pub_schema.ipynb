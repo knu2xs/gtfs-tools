{
 "cells": [
  {
   "cell_type": "code",
   "execution_count": 1,
   "id": "91d6cb78-bbe5-45a4-aad3-b5c1f74377ce",
   "metadata": {},
   "outputs": [],
   "source": [
    "from pathlib import Path\n",
    "\n",
    "from arcgis.features import GeoAccessor\n",
    "import pandas as pd\n",
    "import numpy as np\n",
    "\n",
    "from gtfs_tools.gtfs import GtfsDataset\n",
    "from gtfs_tools.utils.gtfs import add_agency_name_column, add_modality_descriptions, add_standarized_modality_column"
   ]
  },
  {
   "cell_type": "code",
   "execution_count": 2,
   "id": "b4890464-8204-4549-8e53-c3904df71fc9",
   "metadata": {},
   "outputs": [],
   "source": [
    "gtfs_parent = Path(r'\\\\DevBA00007\\data\\gtfs_publishing\\interim\\Grand_County_Colorado_Bus_winterparkcousgtfszip_2024-06-19_10_43_48')\n",
    "\n",
    "gtfs_dir = gtfs_parent / 'gtfs'\n",
    "\n",
    "gdb_pth = gtfs_parent / 'gtfs.gdb'\n",
    "line_pth = gdb_pth / 'lines'\n",
    "stop_pth = gdb_pth / 'stops'"
   ]
  },
  {
   "cell_type": "code",
   "execution_count": 3,
   "id": "ef79a092-4953-49c5-9f58-7ce492c140c3",
   "metadata": {},
   "outputs": [
    {
     "data": {
      "text/plain": [
       "GtfsDataset: \\\\DevBA00007\\data\\gtfs_publishing\\interim\\Grand_County_Colorado_Bus_winterparkcousgtfszip_2024-06-19_10_43_48\\gtfs"
      ]
     },
     "execution_count": 3,
     "metadata": {},
     "output_type": "execute_result"
    }
   ],
   "source": [
    "gtfs = GtfsDataset(gtfs_dir)\n",
    "\n",
    "gtfs"
   ]
  },
  {
   "cell_type": "code",
   "execution_count": 4,
   "id": "9d6ffc7b-2612-4819-85ee-dd867d6b9dcc",
   "metadata": {},
   "outputs": [
    {
     "name": "stdout",
     "output_type": "stream",
     "text": [
      "<class 'pandas.core.frame.DataFrame'>\n",
      "RangeIndex: 15 entries, 0 to 14\n",
      "Data columns (total 19 columns):\n",
      " #   Column                  Non-Null Count  Dtype   \n",
      "---  ------                  --------------  -----   \n",
      " 0   agency_id               15 non-null     object  \n",
      " 1   route_id                15 non-null     object  \n",
      " 2   route_short_name        15 non-null     object  \n",
      " 3   route_long_name         15 non-null     object  \n",
      " 4   route_desc              0 non-null      float64 \n",
      " 5   route_type              15 non-null     object  \n",
      " 6   route_url               0 non-null      float64 \n",
      " 7   route_color             15 non-null     object  \n",
      " 8   route_text_color        15 non-null     object  \n",
      " 9   route_sort_order        15 non-null     int64   \n",
      " 10  min_headway_minutes     15 non-null     int64   \n",
      " 11  eligibility_restricted  15 non-null     int64   \n",
      " 12  continuous_pickup       15 non-null     int64   \n",
      " 13  continuous_drop_off     15 non-null     int64   \n",
      " 14  tts_route_short_name    0 non-null      float64 \n",
      " 15  tts_route_long_name     0 non-null      float64 \n",
      " 16  shape_id                15 non-null     object  \n",
      " 17  SHAPE                   15 non-null     geometry\n",
      " 18  agency_name             15 non-null     object  \n",
      "dtypes: float64(4), geometry(1), int64(5), object(9)\n",
      "memory usage: 2.4+ KB\n"
     ]
    },
    {
     "data": {
      "text/html": [
       "<div>\n",
       "<style scoped>\n",
       "    .dataframe tbody tr th:only-of-type {\n",
       "        vertical-align: middle;\n",
       "    }\n",
       "\n",
       "    .dataframe tbody tr th {\n",
       "        vertical-align: top;\n",
       "    }\n",
       "\n",
       "    .dataframe thead th {\n",
       "        text-align: right;\n",
       "    }\n",
       "</style>\n",
       "<table border=\"1\" class=\"dataframe\">\n",
       "  <thead>\n",
       "    <tr style=\"text-align: right;\">\n",
       "      <th></th>\n",
       "      <th>agency_id</th>\n",
       "      <th>route_id</th>\n",
       "      <th>route_short_name</th>\n",
       "      <th>route_long_name</th>\n",
       "      <th>route_desc</th>\n",
       "      <th>route_type</th>\n",
       "      <th>route_url</th>\n",
       "      <th>route_color</th>\n",
       "      <th>route_text_color</th>\n",
       "      <th>route_sort_order</th>\n",
       "      <th>min_headway_minutes</th>\n",
       "      <th>eligibility_restricted</th>\n",
       "      <th>continuous_pickup</th>\n",
       "      <th>continuous_drop_off</th>\n",
       "      <th>tts_route_short_name</th>\n",
       "      <th>tts_route_long_name</th>\n",
       "      <th>shape_id</th>\n",
       "      <th>SHAPE</th>\n",
       "      <th>agency_name</th>\n",
       "    </tr>\n",
       "  </thead>\n",
       "  <tbody>\n",
       "    <tr>\n",
       "      <th>0</th>\n",
       "      <td>806</td>\n",
       "      <td>10099</td>\n",
       "      <td>FRA</td>\n",
       "      <td>Fraser/Black Line</td>\n",
       "      <td>NaN</td>\n",
       "      <td>3</td>\n",
       "      <td>NaN</td>\n",
       "      <td>2a2a2a</td>\n",
       "      <td>ffffff</td>\n",
       "      <td>0</td>\n",
       "      <td>30</td>\n",
       "      <td>0</td>\n",
       "      <td>1</td>\n",
       "      <td>1</td>\n",
       "      <td>NaN</td>\n",
       "      <td>NaN</td>\n",
       "      <td>p_177613</td>\n",
       "      <td>{\"paths\": [[[-105.76172716672248, 39.883615422...</td>\n",
       "      <td>The Lift</td>\n",
       "    </tr>\n",
       "    <tr>\n",
       "      <th>1</th>\n",
       "      <td>806</td>\n",
       "      <td>10099</td>\n",
       "      <td>FRA</td>\n",
       "      <td>Fraser/Black Line</td>\n",
       "      <td>NaN</td>\n",
       "      <td>3</td>\n",
       "      <td>NaN</td>\n",
       "      <td>2a2a2a</td>\n",
       "      <td>ffffff</td>\n",
       "      <td>0</td>\n",
       "      <td>30</td>\n",
       "      <td>0</td>\n",
       "      <td>1</td>\n",
       "      <td>1</td>\n",
       "      <td>NaN</td>\n",
       "      <td>NaN</td>\n",
       "      <td>p_787965</td>\n",
       "      <td>{\"paths\": [[[-105.784927, 39.917198], [-105.78...</td>\n",
       "      <td>The Lift</td>\n",
       "    </tr>\n",
       "    <tr>\n",
       "      <th>2</th>\n",
       "      <td>806</td>\n",
       "      <td>10099</td>\n",
       "      <td>FRA</td>\n",
       "      <td>Fraser/Black Line</td>\n",
       "      <td>NaN</td>\n",
       "      <td>3</td>\n",
       "      <td>NaN</td>\n",
       "      <td>2a2a2a</td>\n",
       "      <td>ffffff</td>\n",
       "      <td>0</td>\n",
       "      <td>30</td>\n",
       "      <td>0</td>\n",
       "      <td>1</td>\n",
       "      <td>1</td>\n",
       "      <td>NaN</td>\n",
       "      <td>NaN</td>\n",
       "      <td>p_177614</td>\n",
       "      <td>{\"paths\": [[[-105.812309, 39.945946], [-105.81...</td>\n",
       "      <td>The Lift</td>\n",
       "    </tr>\n",
       "    <tr>\n",
       "      <th>3</th>\n",
       "      <td>806</td>\n",
       "      <td>10096</td>\n",
       "      <td>RED</td>\n",
       "      <td>Rendezvous/Red Line</td>\n",
       "      <td>NaN</td>\n",
       "      <td>3</td>\n",
       "      <td>NaN</td>\n",
       "      <td>fe011f</td>\n",
       "      <td>ffffff</td>\n",
       "      <td>1</td>\n",
       "      <td>60</td>\n",
       "      <td>0</td>\n",
       "      <td>1</td>\n",
       "      <td>1</td>\n",
       "      <td>NaN</td>\n",
       "      <td>NaN</td>\n",
       "      <td>p_177617</td>\n",
       "      <td>{\"paths\": [[[-105.76172716672248, 39.883615422...</td>\n",
       "      <td>The Lift</td>\n",
       "    </tr>\n",
       "    <tr>\n",
       "      <th>4</th>\n",
       "      <td>806</td>\n",
       "      <td>10103</td>\n",
       "      <td>GR</td>\n",
       "      <td>Granby Regional Commuter</td>\n",
       "      <td>NaN</td>\n",
       "      <td>3</td>\n",
       "      <td>NaN</td>\n",
       "      <td>808080</td>\n",
       "      <td>ffffff</td>\n",
       "      <td>10</td>\n",
       "      <td>60</td>\n",
       "      <td>0</td>\n",
       "      <td>1</td>\n",
       "      <td>1</td>\n",
       "      <td>NaN</td>\n",
       "      <td>NaN</td>\n",
       "      <td>p_177627</td>\n",
       "      <td>{\"paths\": [[[-105.92525558889, 40.061079254010...</td>\n",
       "      <td>The Lift</td>\n",
       "    </tr>\n",
       "  </tbody>\n",
       "</table>\n",
       "</div>"
      ],
      "text/plain": [
       "  agency_id route_id route_short_name           route_long_name  route_desc  \\\n",
       "0       806    10099              FRA         Fraser/Black Line         NaN   \n",
       "1       806    10099              FRA         Fraser/Black Line         NaN   \n",
       "2       806    10099              FRA         Fraser/Black Line         NaN   \n",
       "3       806    10096              RED       Rendezvous/Red Line         NaN   \n",
       "4       806    10103               GR  Granby Regional Commuter         NaN   \n",
       "\n",
       "  route_type  route_url route_color route_text_color  route_sort_order  \\\n",
       "0          3        NaN      2a2a2a           ffffff                 0   \n",
       "1          3        NaN      2a2a2a           ffffff                 0   \n",
       "2          3        NaN      2a2a2a           ffffff                 0   \n",
       "3          3        NaN      fe011f           ffffff                 1   \n",
       "4          3        NaN      808080           ffffff                10   \n",
       "\n",
       "   min_headway_minutes  eligibility_restricted  continuous_pickup  \\\n",
       "0                   30                       0                  1   \n",
       "1                   30                       0                  1   \n",
       "2                   30                       0                  1   \n",
       "3                   60                       0                  1   \n",
       "4                   60                       0                  1   \n",
       "\n",
       "   continuous_drop_off  tts_route_short_name  tts_route_long_name  shape_id  \\\n",
       "0                    1                   NaN                  NaN  p_177613   \n",
       "1                    1                   NaN                  NaN  p_787965   \n",
       "2                    1                   NaN                  NaN  p_177614   \n",
       "3                    1                   NaN                  NaN  p_177617   \n",
       "4                    1                   NaN                  NaN  p_177627   \n",
       "\n",
       "                                               SHAPE agency_name  \n",
       "0  {\"paths\": [[[-105.76172716672248, 39.883615422...    The Lift  \n",
       "1  {\"paths\": [[[-105.784927, 39.917198], [-105.78...    The Lift  \n",
       "2  {\"paths\": [[[-105.812309, 39.945946], [-105.81...    The Lift  \n",
       "3  {\"paths\": [[[-105.76172716672248, 39.883615422...    The Lift  \n",
       "4  {\"paths\": [[[-105.92525558889, 40.061079254010...    The Lift  "
      ]
     },
     "execution_count": 4,
     "metadata": {},
     "output_type": "execute_result"
    }
   ],
   "source": [
    "routes_df = add_agency_name_column(gtfs.routes.sedf, gtfs.agency.data)\n",
    "\n",
    "routes_df.info()\n",
    "routes_df.head()"
   ]
  },
  {
   "cell_type": "code",
   "execution_count": 6,
   "id": "cfa074d3-8300-4813-9efb-780b243c13b9",
   "metadata": {},
   "outputs": [
    {
     "ename": "KeyError",
     "evalue": "'route_type_std'",
     "output_type": "error",
     "traceback": [
      "\u001B[1;31m---------------------------------------------------------------------------\u001B[0m",
      "\u001B[1;31mKeyError\u001B[0m                                  Traceback (most recent call last)",
      "\u001B[1;32mD:\\projects\\gtfs-tools\\env\\Lib\\site-packages\\pandas\\core\\indexes\\base.py\u001B[0m in \u001B[0;36mget_loc\u001B[1;34m(self, key)\u001B[0m\n\u001B[0;32m   3651\u001B[0m         \u001B[1;32mtry\u001B[0m\u001B[1;33m:\u001B[0m\u001B[1;33m\u001B[0m\u001B[1;33m\u001B[0m\u001B[0m\n\u001B[1;32m-> 3652\u001B[1;33m             \u001B[1;32mreturn\u001B[0m \u001B[0mself\u001B[0m\u001B[1;33m.\u001B[0m\u001B[0m_engine\u001B[0m\u001B[1;33m.\u001B[0m\u001B[0mget_loc\u001B[0m\u001B[1;33m(\u001B[0m\u001B[0mcasted_key\u001B[0m\u001B[1;33m)\u001B[0m\u001B[1;33m\u001B[0m\u001B[1;33m\u001B[0m\u001B[0m\n\u001B[0m\u001B[0;32m   3653\u001B[0m         \u001B[1;32mexcept\u001B[0m \u001B[0mKeyError\u001B[0m \u001B[1;32mas\u001B[0m \u001B[0merr\u001B[0m\u001B[1;33m:\u001B[0m\u001B[1;33m\u001B[0m\u001B[1;33m\u001B[0m\u001B[0m\n",
      "\u001B[1;32mD:\\projects\\gtfs-tools\\env\\Lib\\site-packages\\pandas\\_libs\\index.pyx\u001B[0m in \u001B[0;36mpandas._libs.index.IndexEngine.get_loc\u001B[1;34m()\u001B[0m\n",
      "\u001B[1;32mD:\\projects\\gtfs-tools\\env\\Lib\\site-packages\\pandas\\_libs\\index.pyx\u001B[0m in \u001B[0;36mpandas._libs.index.IndexEngine.get_loc\u001B[1;34m()\u001B[0m\n",
      "\u001B[1;32mpandas\\_libs\\hashtable_class_helper.pxi\u001B[0m in \u001B[0;36mpandas._libs.hashtable.PyObjectHashTable.get_item\u001B[1;34m()\u001B[0m\n",
      "\u001B[1;32mpandas\\_libs\\hashtable_class_helper.pxi\u001B[0m in \u001B[0;36mpandas._libs.hashtable.PyObjectHashTable.get_item\u001B[1;34m()\u001B[0m\n",
      "\u001B[1;31mKeyError\u001B[0m: 'route_type_std'",
      "\nThe above exception was the direct cause of the following exception:\n",
      "\u001B[1;31mKeyError\u001B[0m                                  Traceback (most recent call last)",
      "\u001B[1;32m~\\AppData\\Local\\Temp\\ipykernel_3932\\3479131225.py\u001B[0m in \u001B[0;36m<cell line: 0>\u001B[1;34m()\u001B[0m\n\u001B[1;32m----> 1\u001B[1;33m \u001B[0madd_standarized_modality_column\u001B[0m\u001B[1;33m(\u001B[0m\u001B[0mroutes_df\u001B[0m\u001B[1;33m)\u001B[0m\u001B[1;33m\u001B[0m\u001B[1;33m\u001B[0m\u001B[0m\n\u001B[0m",
      "\u001B[1;32mD:\\projects\\gtfs-tools\\src\\gtfs_tools\\utils\\gtfs.py\u001B[0m in \u001B[0;36madd_standarized_modality_column\u001B[1;34m(data, modality_column, standardized_modality_column)\u001B[0m\n\u001B[0;32m    387\u001B[0m         \u001B[0mstandardized_modality_column\u001B[0m\u001B[1;33m:\u001B[0m \u001B[0mColumn\u001B[0m \u001B[0mto\u001B[0m \u001B[0mbe\u001B[0m \u001B[0madded\u001B[0m \u001B[1;32mwith\u001B[0m \u001B[0mstandardized\u001B[0m \u001B[0mroute\u001B[0m \u001B[0mcodes\u001B[0m\u001B[1;33m.\u001B[0m \u001B[0mDefault\u001B[0m \u001B[1;32mis\u001B[0m\u001B[0;31m \u001B[0m\u001B[0;31m`\u001B[0m\u001B[0;31m`\u001B[0m\u001B[0mroute_type_std\u001B[0m\u001B[0;31m`\u001B[0m\u001B[0;31m`\u001B[0m\u001B[1;33m.\u001B[0m\u001B[1;33m\u001B[0m\u001B[1;33m\u001B[0m\u001B[0m\n\u001B[0;32m    388\u001B[0m     \"\"\"\n\u001B[1;32m--> 389\u001B[1;33m     df = add_description_column_from_id_column(\n\u001B[0m\u001B[0;32m    390\u001B[0m         \u001B[0mdata\u001B[0m\u001B[1;33m,\u001B[0m\u001B[1;33m\u001B[0m\u001B[1;33m\u001B[0m\u001B[0m\n\u001B[0;32m    391\u001B[0m         \u001B[0mlookup_dataframe\u001B[0m\u001B[1;33m=\u001B[0m\u001B[0mget_route_types_table\u001B[0m\u001B[1;33m(\u001B[0m\u001B[1;33m)\u001B[0m\u001B[1;33m,\u001B[0m\u001B[1;33m\u001B[0m\u001B[1;33m\u001B[0m\u001B[0m\n",
      "\u001B[1;32mD:\\projects\\gtfs-tools\\src\\gtfs_tools\\utils\\gtfs.py\u001B[0m in \u001B[0;36madd_description_column_from_id_column\u001B[1;34m(data, lookup_dataframe, lookup_id_column, lookup_description_column, id_column, description_column, description_separator)\u001B[0m\n\u001B[0;32m    332\u001B[0m \u001B[1;33m\u001B[0m\u001B[0m\n\u001B[0;32m    333\u001B[0m     \u001B[1;31m# popualte the description column\u001B[0m\u001B[1;33m\u001B[0m\u001B[1;33m\u001B[0m\u001B[0m\n\u001B[1;32m--> 334\u001B[1;33m     data[description_column] = data[id_column].apply(\n\u001B[0m\u001B[0;32m    335\u001B[0m         lambda id_val: get_description_from_id(\n\u001B[0;32m    336\u001B[0m             \u001B[0mlookup_dataframe\u001B[0m\u001B[1;33m,\u001B[0m\u001B[1;33m\u001B[0m\u001B[1;33m\u001B[0m\u001B[0m\n",
      "\u001B[1;32mD:\\projects\\gtfs-tools\\env\\Lib\\site-packages\\pandas\\core\\series.py\u001B[0m in \u001B[0;36mapply\u001B[1;34m(self, func, convert_dtype, args, **kwargs)\u001B[0m\n\u001B[0;32m   4628\u001B[0m         \u001B[0mdtype\u001B[0m\u001B[1;33m:\u001B[0m \u001B[0mfloat64\u001B[0m\u001B[1;33m\u001B[0m\u001B[1;33m\u001B[0m\u001B[0m\n\u001B[0;32m   4629\u001B[0m         \"\"\"\n\u001B[1;32m-> 4630\u001B[1;33m         \u001B[1;32mreturn\u001B[0m \u001B[0mSeriesApply\u001B[0m\u001B[1;33m(\u001B[0m\u001B[0mself\u001B[0m\u001B[1;33m,\u001B[0m \u001B[0mfunc\u001B[0m\u001B[1;33m,\u001B[0m \u001B[0mconvert_dtype\u001B[0m\u001B[1;33m,\u001B[0m \u001B[0margs\u001B[0m\u001B[1;33m,\u001B[0m \u001B[0mkwargs\u001B[0m\u001B[1;33m)\u001B[0m\u001B[1;33m.\u001B[0m\u001B[0mapply\u001B[0m\u001B[1;33m(\u001B[0m\u001B[1;33m)\u001B[0m\u001B[1;33m\u001B[0m\u001B[1;33m\u001B[0m\u001B[0m\n\u001B[0m\u001B[0;32m   4631\u001B[0m \u001B[1;33m\u001B[0m\u001B[0m\n\u001B[0;32m   4632\u001B[0m     def _reduce(\n",
      "\u001B[1;32mD:\\projects\\gtfs-tools\\env\\Lib\\site-packages\\pandas\\core\\apply.py\u001B[0m in \u001B[0;36mapply\u001B[1;34m(self)\u001B[0m\n\u001B[0;32m   1023\u001B[0m \u001B[1;33m\u001B[0m\u001B[0m\n\u001B[0;32m   1024\u001B[0m         \u001B[1;31m# self.f is Callable\u001B[0m\u001B[1;33m\u001B[0m\u001B[1;33m\u001B[0m\u001B[0m\n\u001B[1;32m-> 1025\u001B[1;33m         \u001B[1;32mreturn\u001B[0m \u001B[0mself\u001B[0m\u001B[1;33m.\u001B[0m\u001B[0mapply_standard\u001B[0m\u001B[1;33m(\u001B[0m\u001B[1;33m)\u001B[0m\u001B[1;33m\u001B[0m\u001B[1;33m\u001B[0m\u001B[0m\n\u001B[0m\u001B[0;32m   1026\u001B[0m \u001B[1;33m\u001B[0m\u001B[0m\n\u001B[0;32m   1027\u001B[0m     \u001B[1;32mdef\u001B[0m \u001B[0magg\u001B[0m\u001B[1;33m(\u001B[0m\u001B[0mself\u001B[0m\u001B[1;33m)\u001B[0m\u001B[1;33m:\u001B[0m\u001B[1;33m\u001B[0m\u001B[1;33m\u001B[0m\u001B[0m\n",
      "\u001B[1;32mD:\\projects\\gtfs-tools\\env\\Lib\\site-packages\\pandas\\core\\apply.py\u001B[0m in \u001B[0;36mapply_standard\u001B[1;34m(self)\u001B[0m\n\u001B[0;32m   1074\u001B[0m             \u001B[1;32melse\u001B[0m\u001B[1;33m:\u001B[0m\u001B[1;33m\u001B[0m\u001B[1;33m\u001B[0m\u001B[0m\n\u001B[0;32m   1075\u001B[0m                 \u001B[0mvalues\u001B[0m \u001B[1;33m=\u001B[0m \u001B[0mobj\u001B[0m\u001B[1;33m.\u001B[0m\u001B[0mastype\u001B[0m\u001B[1;33m(\u001B[0m\u001B[0mobject\u001B[0m\u001B[1;33m)\u001B[0m\u001B[1;33m.\u001B[0m\u001B[0m_values\u001B[0m\u001B[1;33m\u001B[0m\u001B[1;33m\u001B[0m\u001B[0m\n\u001B[1;32m-> 1076\u001B[1;33m                 mapped = lib.map_infer(\n\u001B[0m\u001B[0;32m   1077\u001B[0m                     \u001B[0mvalues\u001B[0m\u001B[1;33m,\u001B[0m\u001B[1;33m\u001B[0m\u001B[1;33m\u001B[0m\u001B[0m\n\u001B[0;32m   1078\u001B[0m                     \u001B[0mf\u001B[0m\u001B[1;33m,\u001B[0m\u001B[1;33m\u001B[0m\u001B[1;33m\u001B[0m\u001B[0m\n",
      "\u001B[1;32mD:\\projects\\gtfs-tools\\env\\Lib\\site-packages\\pandas\\_libs\\lib.pyx\u001B[0m in \u001B[0;36mpandas._libs.lib.map_infer\u001B[1;34m()\u001B[0m\n",
      "\u001B[1;32mD:\\projects\\gtfs-tools\\src\\gtfs_tools\\utils\\gtfs.py\u001B[0m in \u001B[0;36m<lambda>\u001B[1;34m(id_val)\u001B[0m\n\u001B[0;32m    333\u001B[0m     \u001B[1;31m# popualte the description column\u001B[0m\u001B[1;33m\u001B[0m\u001B[1;33m\u001B[0m\u001B[0m\n\u001B[0;32m    334\u001B[0m     data[description_column] = data[id_column].apply(\n\u001B[1;32m--> 335\u001B[1;33m         lambda id_val: get_description_from_id(\n\u001B[0m\u001B[0;32m    336\u001B[0m             \u001B[0mlookup_dataframe\u001B[0m\u001B[1;33m,\u001B[0m\u001B[1;33m\u001B[0m\u001B[1;33m\u001B[0m\u001B[0m\n\u001B[0;32m    337\u001B[0m             \u001B[0mid_string\u001B[0m\u001B[1;33m=\u001B[0m\u001B[0mid_val\u001B[0m\u001B[1;33m,\u001B[0m\u001B[1;33m\u001B[0m\u001B[1;33m\u001B[0m\u001B[0m\n",
      "\u001B[1;32mD:\\projects\\gtfs-tools\\src\\gtfs_tools\\utils\\gtfs.py\u001B[0m in \u001B[0;36mget_description_from_id\u001B[1;34m(lookup_dataframe, id_string, id_column, description_column, description_separator)\u001B[0m\n\u001B[0;32m    294\u001B[0m     \u001B[1;32melse\u001B[0m\u001B[1;33m:\u001B[0m\u001B[1;33m\u001B[0m\u001B[1;33m\u001B[0m\u001B[0m\n\u001B[0;32m    295\u001B[0m         \u001B[1;31m# get the lookup table\u001B[0m\u001B[1;33m\u001B[0m\u001B[1;33m\u001B[0m\u001B[0m\n\u001B[1;32m--> 296\u001B[1;33m         \u001B[0mlookup\u001B[0m \u001B[1;33m=\u001B[0m \u001B[0mlookup_dataframe\u001B[0m\u001B[1;33m.\u001B[0m\u001B[0mset_index\u001B[0m\u001B[1;33m(\u001B[0m\u001B[0mid_column\u001B[0m\u001B[1;33m)\u001B[0m\u001B[1;33m[\u001B[0m\u001B[0mdescription_column\u001B[0m\u001B[1;33m]\u001B[0m\u001B[1;33m\u001B[0m\u001B[1;33m\u001B[0m\u001B[0m\n\u001B[0m\u001B[0;32m    297\u001B[0m \u001B[1;33m\u001B[0m\u001B[0m\n\u001B[0;32m    298\u001B[0m         \u001B[1;31m# ensure agency id is a string\u001B[0m\u001B[1;33m\u001B[0m\u001B[1;33m\u001B[0m\u001B[0m\n",
      "\u001B[1;32mD:\\projects\\gtfs-tools\\env\\Lib\\site-packages\\pandas\\core\\frame.py\u001B[0m in \u001B[0;36m__getitem__\u001B[1;34m(self, key)\u001B[0m\n\u001B[0;32m   3759\u001B[0m             \u001B[1;32mif\u001B[0m \u001B[0mself\u001B[0m\u001B[1;33m.\u001B[0m\u001B[0mcolumns\u001B[0m\u001B[1;33m.\u001B[0m\u001B[0mnlevels\u001B[0m \u001B[1;33m>\u001B[0m \u001B[1;36m1\u001B[0m\u001B[1;33m:\u001B[0m\u001B[1;33m\u001B[0m\u001B[1;33m\u001B[0m\u001B[0m\n\u001B[0;32m   3760\u001B[0m                 \u001B[1;32mreturn\u001B[0m \u001B[0mself\u001B[0m\u001B[1;33m.\u001B[0m\u001B[0m_getitem_multilevel\u001B[0m\u001B[1;33m(\u001B[0m\u001B[0mkey\u001B[0m\u001B[1;33m)\u001B[0m\u001B[1;33m\u001B[0m\u001B[1;33m\u001B[0m\u001B[0m\n\u001B[1;32m-> 3761\u001B[1;33m             \u001B[0mindexer\u001B[0m \u001B[1;33m=\u001B[0m \u001B[0mself\u001B[0m\u001B[1;33m.\u001B[0m\u001B[0mcolumns\u001B[0m\u001B[1;33m.\u001B[0m\u001B[0mget_loc\u001B[0m\u001B[1;33m(\u001B[0m\u001B[0mkey\u001B[0m\u001B[1;33m)\u001B[0m\u001B[1;33m\u001B[0m\u001B[1;33m\u001B[0m\u001B[0m\n\u001B[0m\u001B[0;32m   3762\u001B[0m             \u001B[1;32mif\u001B[0m \u001B[0mis_integer\u001B[0m\u001B[1;33m(\u001B[0m\u001B[0mindexer\u001B[0m\u001B[1;33m)\u001B[0m\u001B[1;33m:\u001B[0m\u001B[1;33m\u001B[0m\u001B[1;33m\u001B[0m\u001B[0m\n\u001B[0;32m   3763\u001B[0m                 \u001B[0mindexer\u001B[0m \u001B[1;33m=\u001B[0m \u001B[1;33m[\u001B[0m\u001B[0mindexer\u001B[0m\u001B[1;33m]\u001B[0m\u001B[1;33m\u001B[0m\u001B[1;33m\u001B[0m\u001B[0m\n",
      "\u001B[1;32mD:\\projects\\gtfs-tools\\env\\Lib\\site-packages\\pandas\\core\\indexes\\base.py\u001B[0m in \u001B[0;36mget_loc\u001B[1;34m(self, key)\u001B[0m\n\u001B[0;32m   3652\u001B[0m             \u001B[1;32mreturn\u001B[0m \u001B[0mself\u001B[0m\u001B[1;33m.\u001B[0m\u001B[0m_engine\u001B[0m\u001B[1;33m.\u001B[0m\u001B[0mget_loc\u001B[0m\u001B[1;33m(\u001B[0m\u001B[0mcasted_key\u001B[0m\u001B[1;33m)\u001B[0m\u001B[1;33m\u001B[0m\u001B[1;33m\u001B[0m\u001B[0m\n\u001B[0;32m   3653\u001B[0m         \u001B[1;32mexcept\u001B[0m \u001B[0mKeyError\u001B[0m \u001B[1;32mas\u001B[0m \u001B[0merr\u001B[0m\u001B[1;33m:\u001B[0m\u001B[1;33m\u001B[0m\u001B[1;33m\u001B[0m\u001B[0m\n\u001B[1;32m-> 3654\u001B[1;33m             \u001B[1;32mraise\u001B[0m \u001B[0mKeyError\u001B[0m\u001B[1;33m(\u001B[0m\u001B[0mkey\u001B[0m\u001B[1;33m)\u001B[0m \u001B[1;32mfrom\u001B[0m \u001B[0merr\u001B[0m\u001B[1;33m\u001B[0m\u001B[1;33m\u001B[0m\u001B[0m\n\u001B[0m\u001B[0;32m   3655\u001B[0m         \u001B[1;32mexcept\u001B[0m \u001B[0mTypeError\u001B[0m\u001B[1;33m:\u001B[0m\u001B[1;33m\u001B[0m\u001B[1;33m\u001B[0m\u001B[0m\n\u001B[0;32m   3656\u001B[0m             \u001B[1;31m# If we have a listlike key, _check_indexing_error will raise\u001B[0m\u001B[1;33m\u001B[0m\u001B[1;33m\u001B[0m\u001B[0m\n",
      "\u001B[1;31mKeyError\u001B[0m: 'route_type_std'"
     ]
    }
   ],
   "source": [
    "add_standarized_modality_column(routes_df)"
   ]
  },
  {
   "cell_type": "code",
   "execution_count": 4,
   "id": "19bdd796-9ddf-4ac8-a0de-9a39a22c9e02",
   "metadata": {},
   "outputs": [],
   "source": [
    "line_dtype_dict = {\n",
    "    'shape_id': 'string',\n",
    "    'route_id': 'string',\n",
    "    'agency_id': 'string',\n",
    "    'agency_name': 'string',\n",
    "    'route_short_name': 'string',\n",
    "    'route_long_name': 'string',\n",
    "    'route_desc': 'string',\n",
    "    'route_type': 'string',\n",
    "    'route_url': 'string',\n",
    "    'route_color': 'string',\n",
    "    'route_type_text': 'string',\n",
    "    'esri_route_type_carto': 'string',\n",
    "    'esri_route_type_carto_desc': 'string',\n",
    "    'esri_contributor': 'string',\n",
    "    'esri_date_received': 'datetime64',\n",
    "    'esri_date_processed': 'datetime64',\n",
    "    'esri_excluded': 'Int32'\n",
    "}"
   ]
  },
  {
   "cell_type": "code",
   "execution_count": 3,
   "id": "64269a59-090f-49d2-8e68-656a097fd2ae",
   "metadata": {},
   "outputs": [
    {
     "data": {
      "text/plain": [
       "OBJECTID                               Int64\n",
       "shape_id                      string[python]\n",
       "route_id                      string[python]\n",
       "agency_id                     string[python]\n",
       "agency_name                   string[python]\n",
       "route_short_name              string[python]\n",
       "route_long_name               string[python]\n",
       "route_desc                    string[python]\n",
       "route_type                    string[python]\n",
       "route_url                     string[python]\n",
       "route_color                   string[python]\n",
       "route_text_color              string[python]\n",
       "route_type_text               string[python]\n",
       "esri_route_type_carto         string[python]\n",
       "esri_route_type_carto_desc    string[python]\n",
       "esri_contributor              string[python]\n",
       "esri_date_received            datetime64[us]\n",
       "esri_date_processed           datetime64[us]\n",
       "esri_excluded                          Int32\n",
       "SHAPE                               geometry\n",
       "dtype: object"
      ]
     },
     "execution_count": 3,
     "metadata": {},
     "output_type": "execute_result"
    }
   ],
   "source": [
    "line_df = GeoAccessor.from_featureclass(line_pth)\n",
    "\n",
    "line_dtypes = line_df.dtypes\n",
    "\n",
    "line_dtypes"
   ]
  },
  {
   "cell_type": "code",
   "execution_count": 6,
   "id": "d8d47c24-e770-4794-ba5e-9289617c1108",
   "metadata": {},
   "outputs": [],
   "source": [
    "routes_df = gtfs.routes.sedf"
   ]
  },
  {
   "cell_type": "code",
   "execution_count": 24,
   "id": "0814b7a3-d2a8-41b6-a195-ba5251588ba9",
   "metadata": {},
   "outputs": [
    {
     "data": {
      "text/plain": [
       "['agency_name',\n",
       " 'route_type_text',\n",
       " 'esri_route_type_carto',\n",
       " 'esri_route_type_carto_desc',\n",
       " 'esri_contributor',\n",
       " 'esri_date_received',\n",
       " 'esri_date_processed',\n",
       " 'esri_excluded']"
      ]
     },
     "execution_count": 24,
     "metadata": {},
     "output_type": "execute_result"
    }
   ],
   "source": [
    "missing_cols = [c for c in line_dtype_dict.keys() if c not in gtfs.routes.sedf.columns]\n",
    "\n",
    "missing_cols"
   ]
  },
  {
   "cell_type": "code",
   "execution_count": 21,
   "id": "5ae3f0e3-def2-48a9-a7a1-4554ded0062e",
   "metadata": {},
   "outputs": [
    {
     "data": {
      "text/plain": [
       "OBJECTID                              Int64\n",
       "stop_id                      string[python]\n",
       "stop_code                    string[python]\n",
       "stop_name                    string[python]\n",
       "tts_stop_name                string[python]\n",
       "stop_desc                    string[python]\n",
       "stop_lat                            Float64\n",
       "stop_lon                            Float64\n",
       "zone_id                      string[python]\n",
       "stop_url                     string[python]\n",
       "location_type                string[python]\n",
       "parent_station               string[python]\n",
       "stop_timezone                string[python]\n",
       "wheelchair_boarding          string[python]\n",
       "level_id                     string[python]\n",
       "platform_code                string[python]\n",
       "esri_contributor             string[python]\n",
       "esri_date_received           datetime64[us]\n",
       "esri_stop_type               string[python]\n",
       "esri_stop_type_desc          string[python]\n",
       "esri_stop_type_carto         string[python]\n",
       "esri_stop_type_carto_desc    string[python]\n",
       "esri_location_type_desc      string[python]\n",
       "agency_id                    string[python]\n",
       "agency_name                  string[python]\n",
       "esri_date_processed          datetime64[us]\n",
       "esri_excluded                         Int32\n",
       "SHAPE                              geometry\n",
       "dtype: object"
      ]
     },
     "execution_count": 21,
     "metadata": {},
     "output_type": "execute_result"
    }
   ],
   "source": [
    "stop_df = GeoAccessor.from_featureclass(stop_pth)\n",
    "\n",
    "stop_dtypes = stop_df.dtypes\n",
    "\n",
    "stop_dtypes"
   ]
  },
  {
   "cell_type": "code",
   "execution_count": null,
   "id": "14112d2b-1dbf-46d3-933d-f263c87d00ed",
   "metadata": {},
   "outputs": [],
   "source": []
  }
 ],
 "metadata": {
  "kernelspec": {
   "display_name": "Python 3 (ipykernel)",
   "language": "python",
   "name": "python3"
  },
  "language_info": {
   "codemirror_mode": {
    "name": "ipython",
    "version": 3
   },
   "file_extension": ".py",
   "mimetype": "text/x-python",
   "name": "python",
   "nbconvert_exporter": "python",
   "pygments_lexer": "ipython3",
   "version": "3.11.8"
  }
 },
 "nbformat": 4,
 "nbformat_minor": 5
}
