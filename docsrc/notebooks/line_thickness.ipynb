{
 "cells": [
  {
   "cell_type": "code",
   "execution_count": 2,
   "id": "ab86db97-c3b2-4a2a-96c8-3d843b46b7f9",
   "metadata": {},
   "outputs": [],
   "source": [
    "import os\n",
    "from pathlib import Path\n",
    "import shutil\n",
    "\n",
    "import arcpy\n",
    "from gtfs_tools.gtfs import GtfsDataset"
   ]
  },
  {
   "cell_type": "code",
   "execution_count": 3,
   "id": "1a0db186-72ee-4a2a-834f-c63f223d9ec4",
   "metadata": {},
   "outputs": [],
   "source": [
    "dir_prj = Path.cwd().parent\n",
    "dir_data = dir_prj / 'data'\n",
    "\n",
    "dir_raw = dir_data / 'raw'\n",
    "dir_int = dir_data / 'interim'\n",
    "\n",
    "gdb_int = dir_int / 'interim.gdb'\n",
    "\n",
    "dir_gtfs_parent = dir_raw / 'gtfs_olympia'\n",
    "\n",
    "# ensure can overwrite output for each run\n",
    "arcpy.env.overwriteOutput = True\n",
    "\n",
    "# where to find the network dataset\n",
    "network_dataset = Path(r\"D:\\data\\ba_data\\usa_2024\\Data\\StreetMap Premium Data\\northamerica.geodatabase\\main.Routing\\main.Routing_ND\")"
   ]
  },
  {
   "cell_type": "code",
   "execution_count": 4,
   "id": "ab6d0730-1bf8-493c-ab28-dd8bf570b968",
   "metadata": {},
   "outputs": [],
   "source": [
    "# create a location to stage data to\n",
    "tmp_gtfs = dir_int / dir_gtfs_parent.name\n",
    "\n",
    "if not tmp_gtfs.exists():\n",
    "    tmp_gtfs.mkdir(parents=True)"
   ]
  },
  {
   "cell_type": "code",
   "execution_count": 5,
   "id": "887407f4-6368-4012-9a5d-816e56636eee",
   "metadata": {},
   "outputs": [
    {
     "data": {
      "text/plain": [
       "[(WindowsPath('D:/projects/gtfs-tools/data/raw/gtfs_olympia/mdb_source_id=11'),\n",
       "  WindowsPath('D:/projects/gtfs-tools/data/interim/gtfs_olympia/mdb_source_id=11')),\n",
       " (WindowsPath('D:/projects/gtfs-tools/data/raw/gtfs_olympia/mdb_source_id=1330'),\n",
       "  WindowsPath('D:/projects/gtfs-tools/data/interim/gtfs_olympia/mdb_source_id=1330')),\n",
       " (WindowsPath('D:/projects/gtfs-tools/data/raw/gtfs_olympia/mdb_source_id=1331'),\n",
       "  WindowsPath('D:/projects/gtfs-tools/data/interim/gtfs_olympia/mdb_source_id=1331')),\n",
       " (WindowsPath('D:/projects/gtfs-tools/data/raw/gtfs_olympia/mdb_source_id=263'),\n",
       "  WindowsPath('D:/projects/gtfs-tools/data/interim/gtfs_olympia/mdb_source_id=263')),\n",
       " (WindowsPath('D:/projects/gtfs-tools/data/raw/gtfs_olympia/mdb_source_id=264'),\n",
       "  WindowsPath('D:/projects/gtfs-tools/data/interim/gtfs_olympia/mdb_source_id=264')),\n",
       " (WindowsPath('D:/projects/gtfs-tools/data/raw/gtfs_olympia/mdb_source_id=265'),\n",
       "  WindowsPath('D:/projects/gtfs-tools/data/interim/gtfs_olympia/mdb_source_id=265')),\n",
       " (WindowsPath('D:/projects/gtfs-tools/data/raw/gtfs_olympia/mdb_source_id=266'),\n",
       "  WindowsPath('D:/projects/gtfs-tools/data/interim/gtfs_olympia/mdb_source_id=266')),\n",
       " (WindowsPath('D:/projects/gtfs-tools/data/raw/gtfs_olympia/mdb_source_id=267'),\n",
       "  WindowsPath('D:/projects/gtfs-tools/data/interim/gtfs_olympia/mdb_source_id=267')),\n",
       " (WindowsPath('D:/projects/gtfs-tools/data/raw/gtfs_olympia/mdb_source_id=268'),\n",
       "  WindowsPath('D:/projects/gtfs-tools/data/interim/gtfs_olympia/mdb_source_id=268')),\n",
       " (WindowsPath('D:/projects/gtfs-tools/data/raw/gtfs_olympia/mdb_source_id=283'),\n",
       "  WindowsPath('D:/projects/gtfs-tools/data/interim/gtfs_olympia/mdb_source_id=283')),\n",
       " (WindowsPath('D:/projects/gtfs-tools/data/raw/gtfs_olympia/mdb_source_id=735'),\n",
       "  WindowsPath('D:/projects/gtfs-tools/data/interim/gtfs_olympia/mdb_source_id=735')),\n",
       " (WindowsPath('D:/projects/gtfs-tools/data/raw/gtfs_olympia/mdb_source_id=784'),\n",
       "  WindowsPath('D:/projects/gtfs-tools/data/interim/gtfs_olympia/mdb_source_id=784')),\n",
       " (WindowsPath('D:/projects/gtfs-tools/data/raw/gtfs_olympia/mdb_source_id=822'),\n",
       "  WindowsPath('D:/projects/gtfs-tools/data/interim/gtfs_olympia/mdb_source_id=822')),\n",
       " (WindowsPath('D:/projects/gtfs-tools/data/raw/gtfs_olympia/mdb_source_id=846'),\n",
       "  WindowsPath('D:/projects/gtfs-tools/data/interim/gtfs_olympia/mdb_source_id=846'))]"
      ]
     },
     "execution_count": 5,
     "metadata": {},
     "output_type": "execute_result"
    }
   ],
   "source": [
    "# create a list of tuples, the source and temporary location for cleaned up data\n",
    "source_lst = [(pth.parent, tmp_gtfs / pth.parent.name) for pth in dir_gtfs_parent.glob('**/shapes.txt')]\n",
    "\n",
    "source_lst"
   ]
  },
  {
   "cell_type": "code",
   "execution_count": 6,
   "id": "1914fbf4-0ecc-41f3-8ee1-23eb88da7c48",
   "metadata": {
    "tags": []
   },
   "outputs": [],
   "source": [
    "# list to populate\n",
    "fc_lst = []"
   ]
  },
  {
   "cell_type": "code",
   "execution_count": 7,
   "id": "54b890b1-fe7b-4da3-bee0-75cbbfa0d515",
   "metadata": {},
   "outputs": [
    {
     "name": "stderr",
     "output_type": "stream",
     "text": [
      "WARNING:arcgis.features.geo._io.fileops:Could not insert the row because of error message: invalid JSON data. Recheck your data.\n",
      "WARNING:arcgis.features.geo._io.fileops:Could not insert the row because of error message: invalid JSON data. Recheck your data.\n"
     ]
    },
    {
     "name": "stdout",
     "output_type": "stream",
     "text": [
      "D:\\projects\\gtfs-tools\\data\\interim\\interim.gdb\\mdb_source_11_trips\n",
      "D:\\projects\\gtfs-tools\\data\\interim\\interim.gdb\\mdb_source_1330_trips\n",
      "D:\\projects\\gtfs-tools\\data\\interim\\interim.gdb\\mdb_source_1331_trips\n",
      "D:\\projects\\gtfs-tools\\data\\interim\\interim.gdb\\mdb_source_263_trips\n",
      "D:\\projects\\gtfs-tools\\data\\interim\\interim.gdb\\mdb_source_264_trips\n",
      "D:\\projects\\gtfs-tools\\data\\interim\\interim.gdb\\mdb_source_265_trips\n",
      "D:\\projects\\gtfs-tools\\data\\interim\\interim.gdb\\mdb_source_266_trips\n",
      "D:\\projects\\gtfs-tools\\data\\interim\\interim.gdb\\mdb_source_267_trips\n",
      "D:\\projects\\gtfs-tools\\data\\interim\\interim.gdb\\mdb_source_268_trips\n",
      "D:\\projects\\gtfs-tools\\data\\interim\\interim.gdb\\mdb_source_283_trips\n",
      "D:\\projects\\gtfs-tools\\data\\interim\\interim.gdb\\mdb_source_735_trips\n"
     ]
    },
    {
     "ename": "ExecuteError",
     "evalue": "Traceback (most recent call last):\n  File \"c:\\program files\\arcgis\\pro\\Resources\\ArcToolbox\\scripts\\FeaturesToGTFSShapes.py\", line 27, in FeaturesToGTFSShapes\n    tool.execute()\n  File \"C:\\Program Files\\ArcGIS\\Pro\\Resources\\ArcToolbox\\Scripts\\features_to_gtfs_shapes.py\", line 101, in execute\n    self._write_stop_times_with_shape_dist_traveled()\n  File \"C:\\Program Files\\ArcGIS\\Pro\\Resources\\ArcToolbox\\Scripts\\features_to_gtfs_shapes.py\", line 436, in _write_stop_times_with_shape_dist_traveled\n    self._calculate_stops_shape_dist_traveled()\n  File \"C:\\Program Files\\ArcGIS\\Pro\\Resources\\ArcToolbox\\Scripts\\features_to_gtfs_shapes.py\", line 276, in _calculate_stops_shape_dist_traveled\n    sequence_stopid_dict, sequence_geom_dict = self._get_stop_info_for_shape(shape_id)\n                                               ^^^^^^^^^^^^^^^^^^^^^^^^^^^^^^^^^^^^^^^\n  File \"C:\\Program Files\\ArcGIS\\Pro\\Resources\\ArcToolbox\\Scripts\\features_to_gtfs_shapes.py\", line 232, in _get_stop_info_for_shape\n    stops_layer = arcpy.management.MakeFeatureLayer(self.in_shape_stops, f\"StopsLayer\", where)\n                  ^^^^^^^^^^^^^^^^^^^^^^^^^^^^^^^^^^^^^^^^^^^^^^^^^^^^^^^^^^^^^^^^^^^^^^^^^^^^\n  File \"C:\\Program Files\\ArcGIS\\Pro\\Resources\\ArcPy\\arcpy\\management.py\", line 10424, in MakeFeatureLayer\n    raise e\n  File \"C:\\Program Files\\ArcGIS\\Pro\\Resources\\ArcPy\\arcpy\\management.py\", line 10421, in MakeFeatureLayer\n    retval = convertArcObjectToPythonObject(gp.MakeFeatureLayer_management(*gp_fixargs((in_features, out_layer, where_clause, workspace, field_info), True)))\n                                            ^^^^^^^^^^^^^^^^^^^^^^^^^^^^^^^^^^^^^^^^^^^^^^^^^^^^^^^^^^^^^^^^^^^^^^^^^^^^^^^^^^^^^^^^^^^^^^^^^^^^^^^^^^^^^^^^\n  File \"C:\\Program Files\\ArcGIS\\Pro\\Resources\\ArcPy\\arcpy\\geoprocessing\\_base.py\", line 512, in <lambda>\n    return lambda *args: val(*gp_fixargs(args, True))\n                         ^^^^^^^^^^^^^^^^^^^^^^^^^^^^\narcgisscripting.ExecuteError: Failed to execute. Parameters are not valid.\nERROR 000732: Input Features: Dataset D:\\projects\\gtfs-tools\\data\\interim\\interim.gdb\\stops_tmp does not exist or is not supported\nWARNING 000725: Output Layer: Dataset StopsLayer already exists.\nFailed to execute (MakeFeatureLayer).\n\n\nERROR 030206: An unexpected error occurred during tool execution.\nFailed to execute (FeaturesToGTFSShapes).\n",
     "output_type": "error",
     "traceback": [
      "\u001B[1;31m---------------------------------------------------------------------------\u001B[0m",
      "\u001B[1;31mExecuteError\u001B[0m                              Traceback (most recent call last)",
      "\u001B[1;32m~\\AppData\\Local\\Temp\\ipykernel_7148\\1841284711.py\u001B[0m in \u001B[0;36m<cell line: 0>\u001B[1;34m()\u001B[0m\n\u001B[0;32m     35\u001B[0m \u001B[1;33m\u001B[0m\u001B[0m\n\u001B[0;32m     36\u001B[0m     \u001B[1;31m# save updated versions\u001B[0m\u001B[1;33m\u001B[0m\u001B[1;33m\u001B[0m\u001B[0m\n\u001B[1;32m---> 37\u001B[1;33m     arcpy.transit.FeaturesToGTFSShapes(\n\u001B[0m\u001B[0;32m     38\u001B[0m         \u001B[0min_shape_lines\u001B[0m\u001B[1;33m=\u001B[0m\u001B[0mstr\u001B[0m\u001B[1;33m(\u001B[0m\u001B[0mlines_fc\u001B[0m\u001B[1;33m)\u001B[0m\u001B[1;33m,\u001B[0m\u001B[1;33m\u001B[0m\u001B[1;33m\u001B[0m\u001B[0m\n\u001B[0;32m     39\u001B[0m         \u001B[0min_shape_stops\u001B[0m\u001B[1;33m=\u001B[0m\u001B[0mstr\u001B[0m\u001B[1;33m(\u001B[0m\u001B[0mstops_fc\u001B[0m\u001B[1;33m)\u001B[0m\u001B[1;33m,\u001B[0m\u001B[1;33m\u001B[0m\u001B[1;33m\u001B[0m\u001B[0m\n",
      "\u001B[1;32mC:\\Program Files\\ArcGIS\\Pro\\Resources\\ArcPy\\arcpy\\transit.py\u001B[0m in \u001B[0;36mFeaturesToGTFSShapes\u001B[1;34m(in_shape_lines, in_shape_stops, in_gtfs_trips, in_gtfs_stop_times, out_gtfs_shapes, out_gtfs_stop_times, distance_units)\u001B[0m\n\u001B[0;32m    398\u001B[0m         \u001B[1;32mreturn\u001B[0m \u001B[0mretval\u001B[0m\u001B[1;33m\u001B[0m\u001B[1;33m\u001B[0m\u001B[0m\n\u001B[0;32m    399\u001B[0m     \u001B[1;32mexcept\u001B[0m \u001B[0mException\u001B[0m \u001B[1;32mas\u001B[0m \u001B[0me\u001B[0m\u001B[1;33m:\u001B[0m\u001B[1;33m\u001B[0m\u001B[1;33m\u001B[0m\u001B[0m\n\u001B[1;32m--> 400\u001B[1;33m         \u001B[1;32mraise\u001B[0m \u001B[0me\u001B[0m\u001B[1;33m\u001B[0m\u001B[1;33m\u001B[0m\u001B[0m\n\u001B[0m\u001B[0;32m    401\u001B[0m \u001B[1;33m\u001B[0m\u001B[0m\n\u001B[0;32m    402\u001B[0m \u001B[1;33m@\u001B[0m\u001B[0mgptooldoc\u001B[0m\u001B[1;33m(\u001B[0m\u001B[1;34m'FeaturesToGTFSStops_transit'\u001B[0m\u001B[1;33m,\u001B[0m \u001B[1;32mNone\u001B[0m\u001B[1;33m)\u001B[0m\u001B[1;33m\u001B[0m\u001B[1;33m\u001B[0m\u001B[0m\n",
      "\u001B[1;32mC:\\Program Files\\ArcGIS\\Pro\\Resources\\ArcPy\\arcpy\\transit.py\u001B[0m in \u001B[0;36mFeaturesToGTFSShapes\u001B[1;34m(in_shape_lines, in_shape_stops, in_gtfs_trips, in_gtfs_stop_times, out_gtfs_shapes, out_gtfs_stop_times, distance_units)\u001B[0m\n\u001B[0;32m    395\u001B[0m     \u001B[1;32mfrom\u001B[0m \u001B[0marcpy\u001B[0m\u001B[1;33m.\u001B[0m\u001B[0marcobjects\u001B[0m\u001B[1;33m.\u001B[0m\u001B[0marcobjectconversion\u001B[0m \u001B[1;32mimport\u001B[0m \u001B[0mconvertArcObjectToPythonObject\u001B[0m\u001B[1;33m\u001B[0m\u001B[1;33m\u001B[0m\u001B[0m\n\u001B[0;32m    396\u001B[0m     \u001B[1;32mtry\u001B[0m\u001B[1;33m:\u001B[0m\u001B[1;33m\u001B[0m\u001B[1;33m\u001B[0m\u001B[0m\n\u001B[1;32m--> 397\u001B[1;33m         \u001B[0mretval\u001B[0m \u001B[1;33m=\u001B[0m \u001B[0mconvertArcObjectToPythonObject\u001B[0m\u001B[1;33m(\u001B[0m\u001B[0mgp\u001B[0m\u001B[1;33m.\u001B[0m\u001B[0mFeaturesToGTFSShapes_transit\u001B[0m\u001B[1;33m(\u001B[0m\u001B[1;33m*\u001B[0m\u001B[0mgp_fixargs\u001B[0m\u001B[1;33m(\u001B[0m\u001B[1;33m(\u001B[0m\u001B[0min_shape_lines\u001B[0m\u001B[1;33m,\u001B[0m \u001B[0min_shape_stops\u001B[0m\u001B[1;33m,\u001B[0m \u001B[0min_gtfs_trips\u001B[0m\u001B[1;33m,\u001B[0m \u001B[0min_gtfs_stop_times\u001B[0m\u001B[1;33m,\u001B[0m \u001B[0mout_gtfs_shapes\u001B[0m\u001B[1;33m,\u001B[0m \u001B[0mout_gtfs_stop_times\u001B[0m\u001B[1;33m,\u001B[0m \u001B[0mdistance_units\u001B[0m\u001B[1;33m)\u001B[0m\u001B[1;33m,\u001B[0m \u001B[1;32mTrue\u001B[0m\u001B[1;33m)\u001B[0m\u001B[1;33m)\u001B[0m\u001B[1;33m)\u001B[0m\u001B[1;33m\u001B[0m\u001B[1;33m\u001B[0m\u001B[0m\n\u001B[0m\u001B[0;32m    398\u001B[0m         \u001B[1;32mreturn\u001B[0m \u001B[0mretval\u001B[0m\u001B[1;33m\u001B[0m\u001B[1;33m\u001B[0m\u001B[0m\n\u001B[0;32m    399\u001B[0m     \u001B[1;32mexcept\u001B[0m \u001B[0mException\u001B[0m \u001B[1;32mas\u001B[0m \u001B[0me\u001B[0m\u001B[1;33m:\u001B[0m\u001B[1;33m\u001B[0m\u001B[1;33m\u001B[0m\u001B[0m\n",
      "\u001B[1;32mC:\\Program Files\\ArcGIS\\Pro\\Resources\\ArcPy\\arcpy\\geoprocessing\\_base.py\u001B[0m in \u001B[0;36m<lambda>\u001B[1;34m(*args)\u001B[0m\n\u001B[0;32m    510\u001B[0m         \u001B[0mval\u001B[0m \u001B[1;33m=\u001B[0m \u001B[0mgetattr\u001B[0m\u001B[1;33m(\u001B[0m\u001B[0mself\u001B[0m\u001B[1;33m.\u001B[0m\u001B[0m_gp\u001B[0m\u001B[1;33m,\u001B[0m \u001B[0mattr\u001B[0m\u001B[1;33m)\u001B[0m\u001B[1;33m\u001B[0m\u001B[1;33m\u001B[0m\u001B[0m\n\u001B[0;32m    511\u001B[0m         \u001B[1;32mif\u001B[0m \u001B[0mcallable\u001B[0m\u001B[1;33m(\u001B[0m\u001B[0mval\u001B[0m\u001B[1;33m)\u001B[0m\u001B[1;33m:\u001B[0m\u001B[1;33m\u001B[0m\u001B[1;33m\u001B[0m\u001B[0m\n\u001B[1;32m--> 512\u001B[1;33m             \u001B[1;32mreturn\u001B[0m \u001B[1;32mlambda\u001B[0m \u001B[1;33m*\u001B[0m\u001B[0margs\u001B[0m\u001B[1;33m:\u001B[0m \u001B[0mval\u001B[0m\u001B[1;33m(\u001B[0m\u001B[1;33m*\u001B[0m\u001B[0mgp_fixargs\u001B[0m\u001B[1;33m(\u001B[0m\u001B[0margs\u001B[0m\u001B[1;33m,\u001B[0m \u001B[1;32mTrue\u001B[0m\u001B[1;33m)\u001B[0m\u001B[1;33m)\u001B[0m\u001B[1;33m\u001B[0m\u001B[1;33m\u001B[0m\u001B[0m\n\u001B[0m\u001B[0;32m    513\u001B[0m         \u001B[1;32melse\u001B[0m\u001B[1;33m:\u001B[0m\u001B[1;33m\u001B[0m\u001B[1;33m\u001B[0m\u001B[0m\n\u001B[0;32m    514\u001B[0m             \u001B[1;32mreturn\u001B[0m \u001B[0mconvertArcObjectToPythonObject\u001B[0m\u001B[1;33m(\u001B[0m\u001B[0mval\u001B[0m\u001B[1;33m)\u001B[0m\u001B[1;33m\u001B[0m\u001B[1;33m\u001B[0m\u001B[0m\n",
      "\u001B[1;31mExecuteError\u001B[0m: Traceback (most recent call last):\n  File \"c:\\program files\\arcgis\\pro\\Resources\\ArcToolbox\\scripts\\FeaturesToGTFSShapes.py\", line 27, in FeaturesToGTFSShapes\n    tool.execute()\n  File \"C:\\Program Files\\ArcGIS\\Pro\\Resources\\ArcToolbox\\Scripts\\features_to_gtfs_shapes.py\", line 101, in execute\n    self._write_stop_times_with_shape_dist_traveled()\n  File \"C:\\Program Files\\ArcGIS\\Pro\\Resources\\ArcToolbox\\Scripts\\features_to_gtfs_shapes.py\", line 436, in _write_stop_times_with_shape_dist_traveled\n    self._calculate_stops_shape_dist_traveled()\n  File \"C:\\Program Files\\ArcGIS\\Pro\\Resources\\ArcToolbox\\Scripts\\features_to_gtfs_shapes.py\", line 276, in _calculate_stops_shape_dist_traveled\n    sequence_stopid_dict, sequence_geom_dict = self._get_stop_info_for_shape(shape_id)\n                                               ^^^^^^^^^^^^^^^^^^^^^^^^^^^^^^^^^^^^^^^\n  File \"C:\\Program Files\\ArcGIS\\Pro\\Resources\\ArcToolbox\\Scripts\\features_to_gtfs_shapes.py\", line 232, in _get_stop_info_for_shape\n    stops_layer = arcpy.management.MakeFeatureLayer(self.in_shape_stops, f\"StopsLayer\", where)\n                  ^^^^^^^^^^^^^^^^^^^^^^^^^^^^^^^^^^^^^^^^^^^^^^^^^^^^^^^^^^^^^^^^^^^^^^^^^^^^\n  File \"C:\\Program Files\\ArcGIS\\Pro\\Resources\\ArcPy\\arcpy\\management.py\", line 10424, in MakeFeatureLayer\n    raise e\n  File \"C:\\Program Files\\ArcGIS\\Pro\\Resources\\ArcPy\\arcpy\\management.py\", line 10421, in MakeFeatureLayer\n    retval = convertArcObjectToPythonObject(gp.MakeFeatureLayer_management(*gp_fixargs((in_features, out_layer, where_clause, workspace, field_info), True)))\n                                            ^^^^^^^^^^^^^^^^^^^^^^^^^^^^^^^^^^^^^^^^^^^^^^^^^^^^^^^^^^^^^^^^^^^^^^^^^^^^^^^^^^^^^^^^^^^^^^^^^^^^^^^^^^^^^^^^\n  File \"C:\\Program Files\\ArcGIS\\Pro\\Resources\\ArcPy\\arcpy\\geoprocessing\\_base.py\", line 512, in <lambda>\n    return lambda *args: val(*gp_fixargs(args, True))\n                         ^^^^^^^^^^^^^^^^^^^^^^^^^^^^\narcgisscripting.ExecuteError: Failed to execute. Parameters are not valid.\nERROR 000732: Input Features: Dataset D:\\projects\\gtfs-tools\\data\\interim\\interim.gdb\\stops_tmp does not exist or is not supported\nWARNING 000725: Output Layer: Dataset StopsLayer already exists.\nFailed to execute (MakeFeatureLayer).\n\n\nERROR 030206: An unexpected error occurred during tool execution.\nFailed to execute (FeaturesToGTFSShapes).\n"
     ]
    }
   ],
   "source": [
    "for source in source_lst:\n",
    "    \n",
    "    # temporary locations for intermediate data\n",
    "    lines_fc = gdb_int / \"lines_tmp\"\n",
    "    stops_fc = gdb_int / \"stops_tmp\"\n",
    "\n",
    "    # start by copying the orignal GTFS dataset to a temporary location\n",
    "    shutil.copytree(source[0], source[1], dirs_exist_ok=True)\n",
    "\n",
    "    # path for new trips, remove since will be replaced\n",
    "    trips_pth = source[1] / \"trips.txt\"\n",
    "    trips_pth.unlink(missing_ok=True)\n",
    "\n",
    "    # match to geometries\n",
    "    arcpy.transit.GenerateShapesFeaturesFromGTFS(\n",
    "        in_gtfs_folder=str(source[0]),\n",
    "        out_shape_lines=str(lines_fc),\n",
    "        out_shape_stops=str(stops_fc),\n",
    "        out_gtfs_trips=str(trips_pth),\n",
    "        network_modes=\"0;1;2;3;4;5;6;7;11;12;OTHER\",\n",
    "        network_data_source=str(network_dataset),\n",
    "        travel_mode=\"Rural Driving Time\",\n",
    "        drive_side=\"RIGHT\",\n",
    "        bearing_tolerance=30,\n",
    "        max_bearing_angle=65\n",
    "    )\n",
    "\n",
    "    # paths for shapes and stop times\n",
    "    shapes_pth = source[1] / 'shapes.txt'\n",
    "    stop_times_pth = source[1] / 'stop_times.txt'\n",
    "\n",
    "    # remove targets to be saved\n",
    "    shapes_pth.unlink(missing_ok=True)\n",
    "    stop_times_pth.unlink(missing_ok=True)\n",
    "\n",
    "    # save updated versions\n",
    "    arcpy.transit.FeaturesToGTFSShapes(\n",
    "        in_shape_lines=str(lines_fc),\n",
    "        in_shape_stops=str(stops_fc),\n",
    "        in_gtfs_trips=str(trips_pth),\n",
    "        in_gtfs_stop_times=str(source[0] / 'stop_times.txt'),\n",
    "        out_gtfs_shapes=str(shapes_pth),\n",
    "        out_gtfs_stop_times=str(stop_times_pth)\n",
    "    )\n",
    "    \n",
    "    # create the gtfs object insance\n",
    "    gtfs = GtfsDataset(source[1])\n",
    "    \n",
    "    # get the trips from the GTFS dataset\n",
    "    trips = gtfs.trips\n",
    "\n",
    "    # create a path to save the data\n",
    "    fc_name = f'mdb_source_{gtfs.gtfs_folder.stem.split(\"=\")[1]}_trips'\n",
    "    fc_pth = gdb_int / fc_name\n",
    "    \n",
    "    # get a trips data frame with reduced columns but including agency information\n",
    "    trips_sedf = (gtfs.trips.sedf.loc[trips.sedf['SHAPE'].notnull(), ['route_id', 'trip_id', 'trip_headsign', 'SHAPE']]\n",
    "                  .merge(gtfs._crosstab_route_agency, on='route_id')\n",
    "                  .merge(gtfs.agency.data.loc[:,['agency_id', 'agency_name']], on='agency_id')\n",
    "                 )\n",
    "\n",
    "    # save the features\n",
    "    trips_sedf.spatial.to_featureclass(fc_pth)\n",
    "    \n",
    "    # add the path to the list\n",
    "    fc_lst.append(fc_pth)\n",
    "    \n",
    "    print(fc_pth)"
   ]
  },
  {
   "cell_type": "code",
   "execution_count": 95,
   "id": "babe4603-946f-45b0-a14e-d53e2901ea2b",
   "metadata": {},
   "outputs": [],
   "source": [
    "trips_fc = str(gdb_int / 'trips')\n",
    "\n",
    "if arcpy.Exists(trips_fc):\n",
    "    arcpy.management.Delete(trips_fc)"
   ]
  },
  {
   "cell_type": "code",
   "execution_count": 96,
   "id": "63d3bc1c-fdde-4874-bd69-1ebe4d6c62e9",
   "metadata": {},
   "outputs": [],
   "source": [
    "arcpy.management.Merge(\n",
    "    inputs=';'.join(map(str, fc_lst)), \n",
    "    output=str(gdb_int / 'trips')\n",
    ")"
   ]
  },
  {
   "cell_type": "code",
   "execution_count": null,
   "id": "8e6950e3-d13f-426a-8bd4-69c68ea5e8c6",
   "metadata": {},
   "outputs": [],
   "source": [
    "arcpy.edit.Snap(\n",
    "    in_features=trips_fc,\n",
    "    snap_environment=[[trips_fc, \"EDGE\", \"30 Feet\"]]\n",
    ")"
   ]
  },
  {
   "cell_type": "code",
   "execution_count": null,
   "id": "f63c69b8-26e6-46da-883e-16508c4f5b21",
   "metadata": {},
   "outputs": [],
   "source": [
    "arcpy.transit.GenerateShapesFeaturesFromGTFS(\n",
    "    in_gtfs_folder=r\"D:\\projects\\gtfs-tools\\data\\raw\\gtfs_olympia\\mdb_source_id=268\",\n",
    "    out_shape_lines=r\"memory\\mdb_268_lines\",\n",
    "    out_shape_stops=r\"memory\\mdb_268_stops\",\n",
    "    out_gtfs_trips=r\"D:\\projects\\gtfs-tools\\data\\interim\\mdb_268_trips.txt\",\n",
    "    network_modes=\"0;1;2;3;4;5;6;7;11;12;OTHER\",\n",
    "    network_data_source=r\"D:\\data\\ba_data\\usa_2024\\Data\\StreetMap Premium Data\\northamerica.geodatabase\\main.Routing\\main.Routing_ND\",\n",
    "    travel_mode=\"Rural Driving Time\",\n",
    "    drive_side=\"RIGHT\",\n",
    "    bearing_tolerance=30,\n",
    "    max_bearing_angle=65\n",
    ")"
   ]
  }
 ],
 "metadata": {
  "kernelspec": {
   "display_name": "Python 3 (ipykernel)",
   "language": "python",
   "name": "python3"
  },
  "language_info": {
   "codemirror_mode": {
    "name": "ipython",
    "version": 3
   },
   "file_extension": ".py",
   "mimetype": "text/x-python",
   "name": "python",
   "nbconvert_exporter": "python",
   "pygments_lexer": "ipython3",
   "version": "3.11.8"
  }
 },
 "nbformat": 4,
 "nbformat_minor": 5
}
